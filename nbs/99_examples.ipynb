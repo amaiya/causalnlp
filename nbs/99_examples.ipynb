{
 "cells": [
  {
   "cell_type": "code",
   "execution_count": null,
   "metadata": {},
   "outputs": [],
   "source": [
    "#hide\n",
    "%reload_ext autoreload\n",
    "%autoreload 2\n",
    "%matplotlib inline"
   ]
  },
  {
   "cell_type": "markdown",
   "metadata": {},
   "source": [
    "# Examples\n",
    "\n",
    "> Various examples of CausalNLP on semi-simulated or real datasets."
   ]
  },
  {
   "cell_type": "code",
   "execution_count": null,
   "metadata": {},
   "outputs": [],
   "source": [
    "from causalnlp.causalinference import CausalInferenceModel\n",
    "from causalnlp.autocoder import Autocoder"
   ]
  },
  {
   "cell_type": "markdown",
   "metadata": {},
   "source": [
    "## What is the causal impact of a positive review on product views?\n",
    "\n",
    "We use a semi-simulated dataset generated from [this repo](https://github.com/rpryzant/causal-text), which is available in the `sample_data` folder. The reviews and product types are real, while the outcomes (e.g., 1=product clicked, 0=not clicked) are simulated."
   ]
  },
  {
   "cell_type": "code",
   "execution_count": null,
   "metadata": {},
   "outputs": [],
   "source": [
    "#notest\n",
    "import pandas as pd\n",
    "df = pd.read_csv('sample_data/music_seed50.tsv', sep='\\t', error_bad_lines=False)"
   ]
  },
  {
   "cell_type": "code",
   "execution_count": null,
   "metadata": {},
   "outputs": [
    {
     "data": {
      "text/html": [
       "<div>\n",
       "<style scoped>\n",
       "    .dataframe tbody tr th:only-of-type {\n",
       "        vertical-align: middle;\n",
       "    }\n",
       "\n",
       "    .dataframe tbody tr th {\n",
       "        vertical-align: top;\n",
       "    }\n",
       "\n",
       "    .dataframe thead th {\n",
       "        text-align: right;\n",
       "    }\n",
       "</style>\n",
       "<table border=\"1\" class=\"dataframe\">\n",
       "  <thead>\n",
       "    <tr style=\"text-align: right;\">\n",
       "      <th></th>\n",
       "      <th>index</th>\n",
       "      <th>id</th>\n",
       "      <th>rating</th>\n",
       "      <th>product</th>\n",
       "      <th>text</th>\n",
       "      <th>summary</th>\n",
       "      <th>price</th>\n",
       "      <th>T_true</th>\n",
       "      <th>C_true</th>\n",
       "      <th>Y_sim</th>\n",
       "      <th>negative</th>\n",
       "      <th>positive</th>\n",
       "      <th>T_ac</th>\n",
       "    </tr>\n",
       "  </thead>\n",
       "  <tbody>\n",
       "    <tr>\n",
       "      <th>0</th>\n",
       "      <td>7</td>\n",
       "      <td>0001388703</td>\n",
       "      <td>1.0</td>\n",
       "      <td>mp3 music</td>\n",
       "      <td>buy the cd.  do not buy the mp3 album.  downlo...</td>\n",
       "      <td>Buy the CD.  Do not buy the MP3.</td>\n",
       "      <td>13.01</td>\n",
       "      <td>0</td>\n",
       "      <td>0</td>\n",
       "      <td>0</td>\n",
       "      <td>0.548733</td>\n",
       "      <td>0.451267</td>\n",
       "      <td>0</td>\n",
       "    </tr>\n",
       "    <tr>\n",
       "      <th>1</th>\n",
       "      <td>8</td>\n",
       "      <td>0001388703</td>\n",
       "      <td>5.0</td>\n",
       "      <td>mp3 music</td>\n",
       "      <td>takes me back to my childhood!</td>\n",
       "      <td>Love it!</td>\n",
       "      <td>13.01</td>\n",
       "      <td>1</td>\n",
       "      <td>0</td>\n",
       "      <td>0</td>\n",
       "      <td>0.008373</td>\n",
       "      <td>0.991627</td>\n",
       "      <td>1</td>\n",
       "    </tr>\n",
       "    <tr>\n",
       "      <th>2</th>\n",
       "      <td>12</td>\n",
       "      <td>0001388703</td>\n",
       "      <td>5.0</td>\n",
       "      <td>audio cd</td>\n",
       "      <td>the passion and ingenuity of green's music is ...</td>\n",
       "      <td>No one like Keith Green</td>\n",
       "      <td>13.01</td>\n",
       "      <td>1</td>\n",
       "      <td>1</td>\n",
       "      <td>1</td>\n",
       "      <td>0.043761</td>\n",
       "      <td>0.956239</td>\n",
       "      <td>1</td>\n",
       "    </tr>\n",
       "    <tr>\n",
       "      <th>3</th>\n",
       "      <td>13</td>\n",
       "      <td>0001388703</td>\n",
       "      <td>5.0</td>\n",
       "      <td>mp3 music</td>\n",
       "      <td>keith's music is a timeless message.  since hi...</td>\n",
       "      <td>Never Gets Old</td>\n",
       "      <td>13.01</td>\n",
       "      <td>1</td>\n",
       "      <td>0</td>\n",
       "      <td>1</td>\n",
       "      <td>0.038876</td>\n",
       "      <td>0.961124</td>\n",
       "      <td>1</td>\n",
       "    </tr>\n",
       "    <tr>\n",
       "      <th>4</th>\n",
       "      <td>15</td>\n",
       "      <td>0001377647</td>\n",
       "      <td>5.0</td>\n",
       "      <td>audio cd</td>\n",
       "      <td>i have fallen in love with john michael talbot...</td>\n",
       "      <td>Talbot a masterpiece</td>\n",
       "      <td>18.99</td>\n",
       "      <td>1</td>\n",
       "      <td>1</td>\n",
       "      <td>1</td>\n",
       "      <td>0.019828</td>\n",
       "      <td>0.980172</td>\n",
       "      <td>1</td>\n",
       "    </tr>\n",
       "  </tbody>\n",
       "</table>\n",
       "</div>"
      ],
      "text/plain": [
       "   index          id  rating    product  \\\n",
       "0      7  0001388703     1.0  mp3 music   \n",
       "1      8  0001388703     5.0  mp3 music   \n",
       "2     12  0001388703     5.0   audio cd   \n",
       "3     13  0001388703     5.0  mp3 music   \n",
       "4     15  0001377647     5.0   audio cd   \n",
       "\n",
       "                                                text  \\\n",
       "0  buy the cd.  do not buy the mp3 album.  downlo...   \n",
       "1                     takes me back to my childhood!   \n",
       "2  the passion and ingenuity of green's music is ...   \n",
       "3  keith's music is a timeless message.  since hi...   \n",
       "4  i have fallen in love with john michael talbot...   \n",
       "\n",
       "                            summary  price  T_true  C_true  Y_sim  negative  \\\n",
       "0  Buy the CD.  Do not buy the MP3.  13.01       0       0      0  0.548733   \n",
       "1                          Love it!  13.01       1       0      0  0.008373   \n",
       "2           No one like Keith Green  13.01       1       1      1  0.043761   \n",
       "3                    Never Gets Old  13.01       1       0      1  0.038876   \n",
       "4              Talbot a masterpiece  18.99       1       1      1  0.019828   \n",
       "\n",
       "   positive  T_ac  \n",
       "0  0.451267     0  \n",
       "1  0.991627     1  \n",
       "2  0.956239     1  \n",
       "3  0.961124     1  \n",
       "4  0.980172     1  "
      ]
     },
     "execution_count": null,
     "metadata": {},
     "output_type": "execute_result"
    }
   ],
   "source": [
    "#notest\n",
    "df.head()"
   ]
  },
  {
   "cell_type": "markdown",
   "metadata": {},
   "source": [
    "`Y_sim` is the simulated outcome indicating whether or not the product was clicked.  `C_true` is a categorical variable, where 1 is an audio CD and and 0 is something else (e.g., MP3).  In this dataset, outcomes were simulated such that `C_true` is a counfounding variable for this problem."
   ]
  },
  {
   "cell_type": "markdown",
   "metadata": {},
   "source": [
    "The treatment is whether or not the review is positive, which affects `Y_sim`.  Let's pretend we don't have a rating and need to infer this from text using the `Autocoder`. This can be done with:\n",
    "```python\n",
    "ac = Autocoder()\n",
    "df = ac.code_sentiment(df['text'].values, df, batch_size=16, binarize=True)\n",
    "df['T_ac'] = df['positive']\n",
    " ```\n",
    "We've already created this as the `T_ac` column (along with the `positive` and `negative` columns), so invoking the above is not needed. Note that `T_ac` is an imperfect approximation of `T_true`. In CausalNLP, we can include the raw text as covariates to improve our estimates.\n",
    "\n",
    "Let's fit the causal inference model.  We will adjust for both `C_true` and the raw text of the review to minimize bias from confounding. CausalNLP supports the following metalearners: S-Learner, T-Learner, X-Learner, and R-Learner. See [this paper](https://arxiv.org/abs/1706.03461) for more information on these. We will use the T-Learner as the metalearner here. By default, T-Learners use LightGBM classifiers with 31 leaves.  Let's increase the number of leaves to 500. In practice, you can supply a learner with hyperparameters that you've tuned beforehand to accurately predict the outcome."
   ]
  },
  {
   "cell_type": "code",
   "execution_count": null,
   "metadata": {},
   "outputs": [
    {
     "name": "stdout",
     "output_type": "stream",
     "text": [
      "outcome column (categorical): Y_sim\n",
      "treatment column: T_ac\n",
      "numerical/categorical covariates: ['C_true']\n",
      "text covariate: text\n",
      "preprocess time:  1.112027883529663  sec\n",
      "start fitting causal inference model\n",
      "time to fit causal inference model:  10.733158826828003  sec\n"
     ]
    }
   ],
   "source": [
    "#notest\n",
    "from lightgbm import LGBMClassifier\n",
    "from sklearn.linear_model import LogisticRegression, LinearRegression\n",
    "cm = CausalInferenceModel(df, metalearner_type='t-learner',\n",
    "                    learner=LGBMClassifier(num_leaves=500),\n",
    "                    treatment_col='T_ac', \n",
    "                    outcome_col='Y_sim', \n",
    "                    text_col='text',\n",
    "                    include_cols=['C_true'])\n",
    "cm.fit()"
   ]
  },
  {
   "cell_type": "markdown",
   "metadata": {},
   "source": [
    "### Average Treatment Effect (ATE)\n",
    "We can calculate the overall average treatment effect (ATE) as follows:"
   ]
  },
  {
   "cell_type": "code",
   "execution_count": null,
   "metadata": {},
   "outputs": [
    {
     "data": {
      "text/plain": [
       "{'ate': 0.1309311542209525}"
      ]
     },
     "execution_count": null,
     "metadata": {},
     "output_type": "execute_result"
    }
   ],
   "source": [
    "#notest\n",
    "cm.estimate_ate()"
   ]
  },
  {
   "cell_type": "markdown",
   "metadata": {},
   "source": [
    "Since this is a simulated dataset, we can estimate the ground truth ATE: `0.1479` (14.79 pp change in outcome)."
   ]
  },
  {
   "cell_type": "code",
   "execution_count": null,
   "metadata": {},
   "outputs": [
    {
     "name": "stdout",
     "output_type": "stream",
     "text": [
      "0.14785542719890196\n"
     ]
    }
   ],
   "source": [
    "#notest\n",
    "from collections import defaultdict\n",
    "import numpy as np\n",
    "def ATE_adjusted(C, T, Y):\n",
    "    x = defaultdict(list)\n",
    "    for c, t, y in zip(C, T, Y):\n",
    "        x[c, t].append(y)\n",
    "\n",
    "    C0_ATE = np.mean(x[0,1]) - np.mean(x[0,0])\n",
    "    C1_ATE =  np.mean(x[1,1]) - np.mean(x[1,0])\n",
    "    return np.mean([C0_ATE, C1_ATE])\n",
    "print(ATE_adjusted(df.C_true, df.T_true, df.Y_sim))"
   ]
  },
  {
   "cell_type": "markdown",
   "metadata": {},
   "source": [
    "### Conditional Average Treatment Effect (CATE)\n",
    "\n",
    "We can also calculate the conditional average treatment effects (CATE). For instance, here is the treatment effect for those reviews that mention the word ``toddler.''"
   ]
  },
  {
   "cell_type": "code",
   "execution_count": null,
   "metadata": {},
   "outputs": [
    {
     "data": {
      "text/plain": [
       "{'ate': 0.15559234254638685}"
      ]
     },
     "execution_count": null,
     "metadata": {},
     "output_type": "execute_result"
    }
   ],
   "source": [
    "#notest\n",
    "series = df['text']\n",
    "cm.estimate_ate(df['text'].str.contains('toddler'))"
   ]
  },
  {
   "cell_type": "markdown",
   "metadata": {},
   "source": [
    "### Individualized Treatment Effect (ITE)\n",
    "\n",
    "We can easily predict the treatment effect for new or existing observations on a per-unit basis.  We just need to make sure the DataFrame supplied as input to `CausalInferenceModel.predict` contains the right columns. This can easily be checked with `CausalInferenceModel.get_required_columns`:"
   ]
  },
  {
   "cell_type": "code",
   "execution_count": null,
   "metadata": {},
   "outputs": [
    {
     "data": {
      "text/plain": [
       "['T_ac', 'C_true', 'text']"
      ]
     },
     "execution_count": null,
     "metadata": {},
     "output_type": "execute_result"
    }
   ],
   "source": [
    "#notest\n",
    "cm.get_required_columns()"
   ]
  },
  {
   "cell_type": "code",
   "execution_count": null,
   "metadata": {},
   "outputs": [],
   "source": [
    "#notest\n",
    "test_df = pd.DataFrame({\n",
    "    'T_ac' : [1],\n",
    "    'C_true' : [1],\n",
    "    'text' : ['I love the music of Zamfir and his pan flute.']\n",
    "      })"
   ]
  },
  {
   "cell_type": "code",
   "execution_count": null,
   "metadata": {},
   "outputs": [
    {
     "data": {
      "text/plain": [
       "array([[0.40062776]])"
      ]
     },
     "execution_count": null,
     "metadata": {},
     "output_type": "execute_result"
    }
   ],
   "source": [
    "#notest\n",
    "cm.predict(test_df)"
   ]
  },
  {
   "cell_type": "markdown",
   "metadata": {},
   "source": [
    "### Model Interpetability\n",
    "\n",
    "We can use the `interpret` method to identify the attributes most predictive of individualized treatment effects across observations.  Features begnning with `v_` are word (or vocabulary) features.  We see that words like \"music\", \"cd\", and \"love\" in addition to the categorical attribute `C_true` (the known confounder which is 1 for audio CDs) are most predictive of *individualized* causal effects."
   ]
  },
  {
   "cell_type": "code",
   "execution_count": null,
   "metadata": {},
   "outputs": [
    {
     "data": {
      "text/plain": [
       "v_music    0.079042\n",
       "v_cd       0.066838\n",
       "v_album    0.055168\n",
       "v_like     0.040784\n",
       "v_love     0.040635\n",
       "C_true     0.039949\n",
       "v_just     0.035671\n",
       "v_song     0.035362\n",
       "v_great    0.029918\n",
       "v_heard    0.028373\n",
       "dtype: float64"
      ]
     },
     "execution_count": null,
     "metadata": {},
     "output_type": "execute_result"
    }
   ],
   "source": [
    "#notest\n",
    "cm.interpret(plot=False, method='feature_importance')[1][:10]"
   ]
  },
  {
   "cell_type": "code",
   "execution_count": null,
   "metadata": {},
   "outputs": [
    {
     "data": {
      "application/vnd.jupyter.widget-view+json": {
       "model_id": "9e8371ff380a404a877e1179cacb0759",
       "version_major": 2,
       "version_minor": 0
      },
      "text/plain": [
       "  0%|          | 0/1 [00:00<?, ?it/s]"
      ]
     },
     "metadata": {},
     "output_type": "display_data"
    },
    {
     "data": {
      "image/png": "[encoded data removed]",
      "text/plain": [
       "<Figure size 1440x216 with 1 Axes>"
      ]
     },
     "metadata": {},
     "output_type": "display_data"
    }
   ],
   "source": [
    "#notest\n",
    "cm.explain(test_df, row_num=0)"
   ]
  },
  {
   "cell_type": "markdown",
   "metadata": {},
   "source": [
    " ## What is the causal impact of a foreclosure or short sale on the sale price of homes greater than 2000 square feet?\n",
    " \n",
    " > Text is Optional in CausalNLP\n",
    " \n",
    " Despite the \"NLP\" in the name, **CausalNLP** can be used for causal analyses on traditional tabular datasets with no text fields.\n",
    " \n",
    " Here, we will estimate the causal effect of an abnormal sale (e.g., short sale, foreclosure), on the sale price of homes greater than 2000 square feet.  The dataset is available on Kaggle [here](https://www.kaggle.com/c/house-prices-advanced-regression-techniques/)."
   ]
  },
  {
   "cell_type": "code",
   "execution_count": null,
   "metadata": {},
   "outputs": [
    {
     "name": "stdout",
     "output_type": "stream",
     "text": [
      "outcome column (numerical): SalePrice\n",
      "treatment column: treatment\n",
      "numerical/categorical covariates: ['MSSubClass', 'MSZoning', 'LotFrontage', 'LotArea', 'Street', 'Alley', 'LotShape', 'LandContour', 'Utilities', 'LotConfig', 'LandSlope', 'Neighborhood', 'Condition1', 'Condition2', 'BldgType', 'HouseStyle', 'OverallQual', 'OverallCond', 'YearBuilt', 'YearRemodAdd', 'RoofStyle', 'RoofMatl', 'Exterior1st', 'Exterior2nd', 'MasVnrType', 'MasVnrArea', 'ExterQual', 'ExterCond', 'Foundation', 'BsmtQual', 'BsmtCond', 'BsmtExposure', 'BsmtFinType1', 'BsmtFinSF1', 'BsmtFinType2', 'BsmtFinSF2', 'BsmtUnfSF', 'TotalBsmtSF', 'Heating', 'HeatingQC', 'CentralAir', 'Electrical', '1stFlrSF', '2ndFlrSF', 'LowQualFinSF', 'GrLivArea', 'BsmtFullBath', 'BsmtHalfBath', 'FullBath', 'HalfBath', 'BedroomAbvGr', 'KitchenAbvGr', 'KitchenQual', 'TotRmsAbvGrd', 'Functional', 'Fireplaces', 'FireplaceQu', 'GarageType', 'GarageYrBlt', 'GarageFinish', 'GarageCars', 'GarageArea', 'GarageQual', 'GarageCond', 'PavedDrive', 'WoodDeckSF', 'OpenPorchSF', 'EnclosedPorch', '3SsnPorch', 'ScreenPorch', 'PoolArea', 'PoolQC', 'Fence', 'MiscFeature', 'MiscVal', 'MoSold', 'YrSold', 'SaleType']\n",
      "preprocess time:  0.35420918464660645  sec\n",
      "start fitting causal inference model\n",
      "time to fit causal inference model:  4.589622735977173  sec\n"
     ]
    },
    {
     "data": {
      "text/plain": [
       "{'ate': -36015.017991264394}"
      ]
     },
     "execution_count": null,
     "metadata": {},
     "output_type": "execute_result"
    }
   ],
   "source": [
    "\n",
    "# prepare test\n",
    "import pandas as pd\n",
    "df = pd.read_csv('sample_data/houses.csv')\n",
    "fn = lambda x: 1 if x == 'Abnorml' else 0\n",
    "df['treatment'] = df['SaleCondition'].apply(fn)\n",
    "\n",
    "# estimate effect of foreclosures and short sales\n",
    "# on sale price of homes > 2000 sq.\n",
    "from causalnlp.causalinference import CausalInferenceModel\n",
    "cm = CausalInferenceModel(df, metalearner_type='t-learner',\n",
    "                   treatment_col='treatment', \n",
    "                   outcome_col='SalePrice',\n",
    "                   ignore_cols=['Id', 'SaleCondition'])\n",
    "cm.fit()\n",
    "cm.estimate_ate(df['GrLivArea']>2000)"
   ]
  },
  {
   "cell_type": "code",
   "execution_count": null,
   "metadata": {},
   "outputs": [
    {
     "data": {
      "text/plain": [
       "OverallQual     0.163584\n",
       "GrLivArea       0.159544\n",
       "ExterQual_Ex    0.140019\n",
       "BsmtFinSF1      0.051894\n",
       "GarageArea      0.051558\n",
       "GarageYrBlt     0.047060\n",
       "YearRemodAdd    0.035756\n",
       "LotArea         0.023736\n",
       "TotalBsmtSF     0.022705\n",
       "WoodDeckSF      0.022463\n",
       "dtype: float64"
      ]
     },
     "execution_count": null,
     "metadata": {},
     "output_type": "execute_result"
    }
   ],
   "source": [
    "cm.interpret(plot=False)[1][:10]"
   ]
  },
  {
   "cell_type": "markdown",
   "metadata": {},
   "source": [
    "The T-Learner predicts a discount of $36K with quality and square footage having the most impact on the size of the discount.\n",
    "\n",
    "We can predict causal impacts on a per-unit basis:"
   ]
  },
  {
   "cell_type": "code",
   "execution_count": null,
   "metadata": {},
   "outputs": [
    {
     "data": {
      "text/plain": [
       "array([[14503.81721707]])"
      ]
     },
     "execution_count": null,
     "metadata": {},
     "output_type": "execute_result"
    }
   ],
   "source": [
    "test_df = cm.df.iloc[[0]]\n",
    "cm.predict(test_df)"
   ]
  },
  {
   "cell_type": "code",
   "execution_count": null,
   "metadata": {},
   "outputs": [
    {
     "data": {
      "application/vnd.jupyter.widget-view+json": {
       "model_id": "ed234abef9d640c88972864c377e82ce",
       "version_major": 2,
       "version_minor": 0
      },
      "text/plain": [
       "  0%|          | 0/1 [00:00<?, ?it/s]"
      ]
     },
     "metadata": {},
     "output_type": "display_data"
    },
    {
     "data": {
      "image/png": "[encoded data removed]",
      "text/plain": [
       "<Figure size 1440x216 with 1 Axes>"
      ]
     },
     "metadata": {},
     "output_type": "display_data"
    }
   ],
   "source": [
    "cm.explain(cm.df.iloc[[0]])"
   ]
  },
  {
   "cell_type": "code",
   "execution_count": null,
   "metadata": {},
   "outputs": [],
   "source": []
  }
 ],
 "metadata": {
  "kernelspec": {
   "display_name": "Python 3",
   "language": "python",
   "name": "python3"
  }
 },
 "nbformat": 4,
 "nbformat_minor": 2
}
