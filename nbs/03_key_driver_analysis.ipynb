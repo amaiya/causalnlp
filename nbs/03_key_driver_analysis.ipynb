{
 "cells": [
  {
   "cell_type": "code",
   "execution_count": null,
   "metadata": {},
   "outputs": [],
   "source": [
    "# default_exp key_driver_analysis"
   ]
  },
  {
   "cell_type": "code",
   "execution_count": null,
   "metadata": {},
   "outputs": [],
   "source": [
    "#hide\n",
    "%reload_ext autoreload\n",
    "%autoreload 2\n",
    "%matplotlib inline"
   ]
  },
  {
   "cell_type": "markdown",
   "metadata": {},
   "source": [
    "# Key Driver Analysis\n",
    "\n",
    "> Key driver analysis to yield clues into **potential** causal relationships in your data by determining variables with high predictive power, high correlation with outcome, etc."
   ]
  },
  {
   "cell_type": "code",
   "execution_count": null,
   "metadata": {},
   "outputs": [],
   "source": [
    "#hide\n",
    "try:\n",
    "    import google.colab\n",
    "    IN_COLAB = True\n",
    "except:\n",
    "    IN_COLAB = False\n",
    "if IN_COLAB:\n",
    "    !wget -P /tmp https://raw.githubusercontent.com/amaiya/causalnlp/main/nbs/sample_data/houses.csv\n",
    "    !wget -P /tmp https://raw.githubusercontent.com/amaiya/causalnlp/main/nbs/sample_data/adult-census.csv\n",
    "    !pip install -q causalnlp"
   ]
  },
  {
   "cell_type": "code",
   "execution_count": null,
   "metadata": {},
   "outputs": [],
   "source": [
    "#hide\n",
    "from nbdev.showdoc import *"
   ]
  },
  {
   "cell_type": "code",
   "execution_count": null,
   "metadata": {},
   "outputs": [],
   "source": [
    "#export\n",
    "import numpy as np\n",
    "import pandas as pd\n",
    "pd.set_option('display.max_columns', 500)\n",
    "import time\n",
    "from sklearn.model_selection import train_test_split\n",
    "from sklearn.ensemble import RandomForestRegressor, RandomForestClassifier\n",
    "import matplotlib.pyplot as plt\n",
    "\n",
    "\n",
    "from causalnlp.preprocessing import DataframePreprocessor\n",
    "\n",
    "\n",
    "\n",
    "class KeyDriverAnalysis:\n",
    "    \"\"\"\n",
    "    Performs key driver analysis\n",
    "    \"\"\"\n",
    "    def __init__(self, df, outcome_col='outcome', text_col=None, include_cols=[], ignore_cols=[],\n",
    "                 verbose=1):\n",
    "        \"\"\"\n",
    "        Instantiates the KeyDriverAnalysis instance.\n",
    "        \"\"\"\n",
    "        self.v = verbose\n",
    "        self.pp = None # set with call to _preprocess\n",
    "        self.df, self.x, self.y = self._preprocess(df, outcome_col=outcome_col, text_col=text_col, \n",
    "                                                   include_cols=include_cols, ignore_cols=ignore_cols)\n",
    "        \n",
    "\n",
    "    def _preprocess(self, df, outcome_col='outcome', text_col=None, include_cols=[], ignore_cols=[]):\n",
    "        \"\"\"\n",
    "        preprocesses DataFrame\n",
    "        \"\"\"\n",
    "        temp_treatment = 'CausalNLP_temp_treatment'\n",
    "        df = df.copy()\n",
    "        df[temp_treatment] = [0] * df.shape[0]\n",
    "        \n",
    "        # preprocess\n",
    "        self.pp = DataframePreprocessor(treatment_col = temp_treatment,\n",
    "                                       outcome_col = outcome_col,\n",
    "                                       text_col=text_col,\n",
    "                                       include_cols=include_cols,\n",
    "                                       ignore_cols=ignore_cols,\n",
    "                                       verbose=self.v)\n",
    "        df, x, y, _ = self.pp.preprocess(df,\n",
    "                                         training=True,\n",
    "                                         min_df=0.05,\n",
    "                                         max_df=0.5,\n",
    "                                         ngram_range=(1,1),\n",
    "                                         stop_words='english')\n",
    "        return df, x, y\n",
    "\n",
    "    def correlations(self, outcome_only=True):\n",
    "        \"\"\"\n",
    "        Computes corelations between independent variables and outcome\n",
    "        \"\"\"\n",
    "\n",
    "        df = self.x.copy()\n",
    "        df[self.pp.outcome_col] = self.y\n",
    "        corrALL = df.apply(pd.to_numeric, errors='coerce').corr()\n",
    "        if outcome_only:\n",
    "            df_results = corrALL[[self.pp.outcome_col]]\n",
    "            df_results = df_results.sort_values(by=self.pp.outcome_col, key=abs, ascending=False)\n",
    "            return df_results.iloc[1: , :]\n",
    "\n",
    "            #return df_results.sort_values(by=[self.pp.outcome_col])\n",
    "        else:\n",
    "            return corrALL\n",
    "\n",
    "        \n",
    "        \n",
    "    def importances(self, plot=True, split_pct=0.2, \n",
    "                    use_shap=False, shap_background_size=50,\n",
    "                    rf_model=None, n_estimators=100, n_jobs=-1, random_state=42):\n",
    "        \"\"\"\n",
    "        Identifies important predictors using a RandomForest model.\n",
    "        \"\"\"\n",
    "       \n",
    "        X_train, X_test, y_train, y_test = train_test_split(self.x.values, self.y.values, \n",
    "                                                            test_size=split_pct, \n",
    "                                                            random_state=random_state)\n",
    "        rf_type = RandomForestClassifier if self.pp.is_classification else RandomForestRegressor\n",
    "        rf = rf_type(n_estimators = n_estimators,\n",
    "                                   n_jobs = n_jobs,\n",
    "                                   oob_score = True,\n",
    "                                   bootstrap = True,\n",
    "                                   random_state = random_state)\n",
    "        rf.fit(X_train, y_train)\n",
    "        if self.v:\n",
    "            print('R^2 Training Score: {:.2f} \\nOOB Score: {:.2f} \\nR^2 Validation Score: {:.2f}'.format(\n",
    "                                                                             rf.score(X_train, y_train), \n",
    "                                                                             rf.oob_score_,\n",
    "                                                                             rf.score(X_test, y_test)))\n",
    "        driverNames = self.x.columns.values\n",
    "        if use_shap:\n",
    "            try:\n",
    "                import shap\n",
    "            except ImportError:\n",
    "                raise ImportError('Please install shap (conda recommended): '+\\\n",
    "                                 'conda install shap --channel conda-forge')\n",
    "            explainer = shap.KernelExplainer(rf.predict, X_test[:shap_background_size,:])\n",
    "            shap_values = explainer.shap_values(X_test[:shap_background_size,:])\n",
    "            if plot:\n",
    "                shap.summary_plot(shap_values, X_test[:shap_background_size,:], feature_names=driverNames)\n",
    "            vals = np.abs(shap_values).mean(0)\n",
    "\n",
    "            df_results = pd.DataFrame(list(zip(driverNames, vals)),\n",
    "                                  columns=['Driver','Importance'])\n",
    "            df_results.sort_values(by=['Importance'],\n",
    "                                   ascending=False, inplace=True)\n",
    "            return df_results\n",
    "        else:\n",
    "            df_results = pd.DataFrame(data = {'Driver': driverNames,\n",
    "                                             'Importance': rf.feature_importances_})\n",
    "            df_results = df_results.sort_values('Importance', ascending=False)\n",
    "            if plot:\n",
    "                feat_importances = pd.Series(rf.feature_importances_, index=driverNames)\n",
    "                feat_importances.nlargest(20).plot(kind='barh')\n",
    "            return df_results        "
   ]
  },
  {
   "cell_type": "code",
   "execution_count": null,
   "metadata": {},
   "outputs": [
    {
     "data": {
      "text/markdown": [
       "<h4 id=\"KeyDriverAnalysis.correlations\" class=\"doc_header\"><code>KeyDriverAnalysis.correlations</code><a href=\"__main__.py#L54\" class=\"source_link\" style=\"float:right\">[source]</a></h4>\n",
       "\n",
       "> <code>KeyDriverAnalysis.correlations</code>(**`outcome_only`**=*`True`*)\n",
       "\n",
       "Computes corelations between independent variables and outcome"
      ],
      "text/plain": [
       "<IPython.core.display.Markdown object>"
      ]
     },
     "metadata": {},
     "output_type": "display_data"
    }
   ],
   "source": [
    "show_doc(KeyDriverAnalysis.correlations)"
   ]
  },
  {
   "cell_type": "code",
   "execution_count": null,
   "metadata": {},
   "outputs": [],
   "source": [
    "import pandas as pd\n",
    "df = pd.read_csv('sample_data/houses.csv')"
   ]
  },
  {
   "cell_type": "code",
   "execution_count": null,
   "metadata": {},
   "outputs": [
    {
     "name": "stdout",
     "output_type": "stream",
     "text": [
      "outcome column (numerical): SalePrice\n",
      "treatment column: CausalNLP_temp_treatment\n",
      "numerical/categorical covariates: ['MSSubClass', 'MSZoning', 'LotFrontage', 'LotArea', 'Street', 'Alley', 'LotShape', 'LandContour', 'Utilities', 'LotConfig', 'LandSlope', 'Neighborhood', 'Condition1', 'Condition2', 'BldgType', 'HouseStyle', 'OverallQual', 'OverallCond', 'YearBuilt', 'YearRemodAdd', 'RoofStyle', 'RoofMatl', 'Exterior1st', 'Exterior2nd', 'MasVnrType', 'MasVnrArea', 'ExterQual', 'ExterCond', 'Foundation', 'BsmtQual', 'BsmtCond', 'BsmtExposure', 'BsmtFinType1', 'BsmtFinSF1', 'BsmtFinType2', 'BsmtFinSF2', 'BsmtUnfSF', 'TotalBsmtSF', 'Heating', 'HeatingQC', 'CentralAir', 'Electrical', '1stFlrSF', '2ndFlrSF', 'LowQualFinSF', 'GrLivArea', 'BsmtFullBath', 'BsmtHalfBath', 'FullBath', 'HalfBath', 'BedroomAbvGr', 'KitchenAbvGr', 'KitchenQual', 'TotRmsAbvGrd', 'Functional', 'Fireplaces', 'FireplaceQu', 'GarageType', 'GarageYrBlt', 'GarageFinish', 'GarageCars', 'GarageArea', 'GarageQual', 'GarageCond', 'PavedDrive', 'WoodDeckSF', 'OpenPorchSF', 'EnclosedPorch', '3SsnPorch', 'ScreenPorch', 'PoolArea', 'PoolQC', 'Fence', 'MiscFeature', 'MiscVal', 'MoSold', 'YrSold', 'SaleType', 'SaleCondition']\n",
      "preprocess time:  0.3556947708129883  sec\n"
     ]
    }
   ],
   "source": [
    "from causalnlp.key_driver_analysis import KeyDriverAnalysis\n",
    "kda = KeyDriverAnalysis(df, outcome_col='SalePrice', ignore_cols=['Id', 'YearSold'])"
   ]
  },
  {
   "cell_type": "code",
   "execution_count": null,
   "metadata": {},
   "outputs": [
    {
     "data": {
      "text/html": [
       "<div>\n",
       "<style scoped>\n",
       "    .dataframe tbody tr th:only-of-type {\n",
       "        vertical-align: middle;\n",
       "    }\n",
       "\n",
       "    .dataframe tbody tr th {\n",
       "        vertical-align: top;\n",
       "    }\n",
       "\n",
       "    .dataframe thead th {\n",
       "        text-align: right;\n",
       "    }\n",
       "</style>\n",
       "<table border=\"1\" class=\"dataframe\">\n",
       "  <thead>\n",
       "    <tr style=\"text-align: right;\">\n",
       "      <th></th>\n",
       "      <th>SalePrice</th>\n",
       "    </tr>\n",
       "  </thead>\n",
       "  <tbody>\n",
       "    <tr>\n",
       "      <th>OverallQual</th>\n",
       "      <td>0.790982</td>\n",
       "    </tr>\n",
       "    <tr>\n",
       "      <th>GrLivArea</th>\n",
       "      <td>0.708624</td>\n",
       "    </tr>\n",
       "    <tr>\n",
       "      <th>GarageCars</th>\n",
       "      <td>0.640409</td>\n",
       "    </tr>\n",
       "    <tr>\n",
       "      <th>GarageArea</th>\n",
       "      <td>0.623431</td>\n",
       "    </tr>\n",
       "    <tr>\n",
       "      <th>TotalBsmtSF</th>\n",
       "      <td>0.613581</td>\n",
       "    </tr>\n",
       "  </tbody>\n",
       "</table>\n",
       "</div>"
      ],
      "text/plain": [
       "             SalePrice\n",
       "OverallQual   0.790982\n",
       "GrLivArea     0.708624\n",
       "GarageCars    0.640409\n",
       "GarageArea    0.623431\n",
       "TotalBsmtSF   0.613581"
      ]
     },
     "execution_count": null,
     "metadata": {},
     "output_type": "execute_result"
    }
   ],
   "source": [
    "df_results = kda.correlations()\n",
    "df_results.head()"
   ]
  },
  {
   "cell_type": "code",
   "execution_count": null,
   "metadata": {},
   "outputs": [],
   "source": [
    "assert df_results.iloc[[0]].index.values[0] == 'OverallQual'"
   ]
  },
  {
   "cell_type": "code",
   "execution_count": null,
   "metadata": {},
   "outputs": [
    {
     "data": {
      "text/markdown": [
       "<h4 id=\"KeyDriverAnalysis.importances\" class=\"doc_header\"><code>KeyDriverAnalysis.importances</code><a href=\"https://github.com/amaiya/causalnlp/tree/main/causalnlp/key_driver_analysis.py#L77\" class=\"source_link\" style=\"float:right\">[source]</a></h4>\n",
       "\n",
       "> <code>KeyDriverAnalysis.importances</code>(**`plot`**=*`True`*, **`split_pct`**=*`0.2`*, **`use_shap`**=*`False`*, **`shap_background_size`**=*`50`*, **`rf_model`**=*`None`*, **`n_estimators`**=*`100`*, **`n_jobs`**=*`-1`*, **`random_state`**=*`42`*)\n",
       "\n",
       "Identifies important predictors using a RandomForest model."
      ],
      "text/plain": [
       "<IPython.core.display.Markdown object>"
      ]
     },
     "metadata": {},
     "output_type": "display_data"
    }
   ],
   "source": [
    "show_doc(KeyDriverAnalysis.importances)"
   ]
  },
  {
   "cell_type": "markdown",
   "metadata": {},
   "source": [
    "#### Example: Variable Importances for Housing Prices"
   ]
  },
  {
   "cell_type": "code",
   "execution_count": null,
   "metadata": {},
   "outputs": [
    {
     "name": "stdout",
     "output_type": "stream",
     "text": [
      "R^2 Training Score: 0.98 \n",
      "OOB Score: 0.85 \n",
      "R^2 Validation Score: 0.89\n"
     ]
    },
    {
     "data": {
      "text/html": [
       "<div>\n",
       "<style scoped>\n",
       "    .dataframe tbody tr th:only-of-type {\n",
       "        vertical-align: middle;\n",
       "    }\n",
       "\n",
       "    .dataframe tbody tr th {\n",
       "        vertical-align: top;\n",
       "    }\n",
       "\n",
       "    .dataframe thead th {\n",
       "        text-align: right;\n",
       "    }\n",
       "</style>\n",
       "<table border=\"1\" class=\"dataframe\">\n",
       "  <thead>\n",
       "    <tr style=\"text-align: right;\">\n",
       "      <th></th>\n",
       "      <th>Driver</th>\n",
       "      <th>Importance</th>\n",
       "    </tr>\n",
       "  </thead>\n",
       "  <tbody>\n",
       "    <tr>\n",
       "      <th>3</th>\n",
       "      <td>OverallQual</td>\n",
       "      <td>0.557707</td>\n",
       "    </tr>\n",
       "    <tr>\n",
       "      <th>15</th>\n",
       "      <td>GrLivArea</td>\n",
       "      <td>0.121145</td>\n",
       "    </tr>\n",
       "    <tr>\n",
       "      <th>11</th>\n",
       "      <td>TotalBsmtSF</td>\n",
       "      <td>0.035977</td>\n",
       "    </tr>\n",
       "    <tr>\n",
       "      <th>13</th>\n",
       "      <td>2ndFlrSF</td>\n",
       "      <td>0.033758</td>\n",
       "    </tr>\n",
       "    <tr>\n",
       "      <th>8</th>\n",
       "      <td>BsmtFinSF1</td>\n",
       "      <td>0.028563</td>\n",
       "    </tr>\n",
       "  </tbody>\n",
       "</table>\n",
       "</div>"
      ],
      "text/plain": [
       "         Driver  Importance\n",
       "3   OverallQual    0.557707\n",
       "15    GrLivArea    0.121145\n",
       "11  TotalBsmtSF    0.035977\n",
       "13     2ndFlrSF    0.033758\n",
       "8    BsmtFinSF1    0.028563"
      ]
     },
     "execution_count": null,
     "metadata": {},
     "output_type": "execute_result"
    },
    {
     "data": {
      "image/png": "[encoded data removed]",
      "text/plain": [
       "<Figure size 432x288 with 1 Axes>"
      ]
     },
     "metadata": {
      "needs_background": "light"
     },
     "output_type": "display_data"
    }
   ],
   "source": [
    "df_results = kda.importances()\n",
    "df_results.head()"
   ]
  },
  {
   "cell_type": "markdown",
   "metadata": {},
   "source": [
    "#### Example: Variable Importances for Probability of Making Over $50K"
   ]
  },
  {
   "cell_type": "code",
   "execution_count": null,
   "metadata": {},
   "outputs": [
    {
     "name": "stdout",
     "output_type": "stream",
     "text": [
      "replaced ['<=50K', '>50K'] in column \"class\" with [0, 1]\n",
      "outcome column (categorical): class\n",
      "treatment column: CausalNLP_temp_treatment\n",
      "numerical/categorical covariates: ['age', 'workclass', 'education', 'education-num', 'marital-status', 'occupation', 'relationship', 'race', 'sex', 'capital-gain', 'capital-loss', 'hours-per-week', 'native-country']\n",
      "preprocess time:  0.5094420909881592  sec\n",
      "R^2 Training Score: 0.98 \n",
      "OOB Score: 0.85 \n",
      "R^2 Validation Score: 0.85\n"
     ]
    },
    {
     "data": {
      "application/vnd.jupyter.widget-view+json": {
       "model_id": "ca4ab04754154f4eb73b232f66b48d8b",
       "version_major": 2,
       "version_minor": 0
      },
      "text/plain": [
       "  0%|          | 0/50 [00:00<?, ?it/s]"
      ]
     },
     "metadata": {},
     "output_type": "display_data"
    },
    {
     "data": {
      "image/png": "[encoded data removed]",
      "text/plain": [
       "<Figure size 576x684 with 2 Axes>"
      ]
     },
     "metadata": {
      "needs_background": "light"
     },
     "output_type": "display_data"
    },
    {
     "data": {
      "text/html": [
       "<div>\n",
       "<style scoped>\n",
       "    .dataframe tbody tr th:only-of-type {\n",
       "        vertical-align: middle;\n",
       "    }\n",
       "\n",
       "    .dataframe tbody tr th {\n",
       "        vertical-align: top;\n",
       "    }\n",
       "\n",
       "    .dataframe thead th {\n",
       "        text-align: right;\n",
       "    }\n",
       "</style>\n",
       "<table border=\"1\" class=\"dataframe\">\n",
       "  <thead>\n",
       "    <tr style=\"text-align: right;\">\n",
       "      <th></th>\n",
       "      <th>Driver</th>\n",
       "      <th>Importance</th>\n",
       "    </tr>\n",
       "  </thead>\n",
       "  <tbody>\n",
       "    <tr>\n",
       "      <th>2</th>\n",
       "      <td>capital-gain</td>\n",
       "      <td>0.102854</td>\n",
       "    </tr>\n",
       "    <tr>\n",
       "      <th>0</th>\n",
       "      <td>age</td>\n",
       "      <td>0.036508</td>\n",
       "    </tr>\n",
       "    <tr>\n",
       "      <th>1</th>\n",
       "      <td>education-num</td>\n",
       "      <td>0.035481</td>\n",
       "    </tr>\n",
       "    <tr>\n",
       "      <th>32</th>\n",
       "      <td>marital-status_Married-civ-spouse</td>\n",
       "      <td>0.031246</td>\n",
       "    </tr>\n",
       "    <tr>\n",
       "      <th>52</th>\n",
       "      <td>relationship_Husband</td>\n",
       "      <td>0.028451</td>\n",
       "    </tr>\n",
       "  </tbody>\n",
       "</table>\n",
       "</div>"
      ],
      "text/plain": [
       "                               Driver  Importance\n",
       "2                        capital-gain    0.102854\n",
       "0                                 age    0.036508\n",
       "1                       education-num    0.035481\n",
       "32  marital-status_Married-civ-spouse    0.031246\n",
       "52               relationship_Husband    0.028451"
      ]
     },
     "execution_count": null,
     "metadata": {},
     "output_type": "execute_result"
    }
   ],
   "source": [
    "#notest\n",
    "import pandas as pd\n",
    "df = pd.read_csv('sample_data/adult-census.csv')\n",
    "kda = KeyDriverAnalysis(df, outcome_col='class', ignore_cols=['fnlwgt'])\n",
    "df_results = kda.importances(use_shap=True, plot=True)\n",
    "df_results.head()"
   ]
  },
  {
   "cell_type": "code",
   "execution_count": null,
   "metadata": {},
   "outputs": [],
   "source": []
  }
 ],
 "metadata": {
  "kernelspec": {
   "display_name": "Python 3 (ipykernel)",
   "language": "python",
   "name": "python3"
  }
 },
 "nbformat": 4,
 "nbformat_minor": 2
}
