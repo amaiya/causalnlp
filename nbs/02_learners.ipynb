{
 "cells": [
  {
   "cell_type": "code",
   "execution_count": 1,
   "metadata": {},
   "outputs": [],
   "source": [
    "# default_exp learners"
   ]
  },
  {
   "cell_type": "code",
   "execution_count": 2,
   "metadata": {},
   "outputs": [],
   "source": [
    "#hide\n",
    "%reload_ext autoreload\n",
    "%autoreload 2\n",
    "%matplotlib inline"
   ]
  },
  {
   "cell_type": "markdown",
   "metadata": {},
   "source": [
    "# Learners\n",
    "\n",
    "> Built-in base learners for use with metalearners."
   ]
  },
  {
   "cell_type": "code",
   "execution_count": 3,
   "metadata": {},
   "outputs": [],
   "source": [
    "#hide\n",
    "from nbdev.showdoc import *"
   ]
  },
  {
   "cell_type": "code",
   "execution_count": 4,
   "metadata": {},
   "outputs": [],
   "source": [
    "#export\n",
    "from lightgbm import LGBMClassifier, LGBMRegressor"
   ]
  },
  {
   "cell_type": "code",
   "execution_count": 9,
   "metadata": {},
   "outputs": [],
   "source": [
    "#export\n",
    "import sklearn\n",
    "from sklearn.datasets import load_files\n",
    "from sklearn.feature_extraction.text import CountVectorizer, TfidfVectorizer\n",
    "from sklearn.feature_extraction.text import TfidfTransformer\n",
    "from sklearn.pipeline import Pipeline\n",
    "from sklearn.linear_model import LogisticRegression, LinearRegression, SGDClassifier\n",
    "from sklearn.datasets import load_files\n",
    "from joblib import dump, load\n",
    "import string\n",
    "import numpy as np\n",
    "from abc import ABC, abstractmethod\n",
    "\n",
    "\n",
    "class BaseTextLearner(ABC):\n",
    "    \"\"\"\n",
    "    Abstract class for text classifier/regressor for use with metalearners\n",
    "    \"\"\"\n",
    "    \n",
    "    @abstractmethod\n",
    "    def fit(self, x_train, y_train):\n",
    "        \"\"\"\n",
    "        Train a classifier.\n",
    "        \"\"\"\n",
    "        pass\n",
    "\n",
    "    @abstractmethod\n",
    "    def predict(self, x_test, return_proba=False):\n",
    "        \"\"\"\n",
    "        Make predictions on text data.\n",
    "        \"\"\"\n",
    "        pass\n",
    "\n",
    "    @abstractmethod\n",
    "    def predict_proba(self, x_test):\n",
    "        \"\"\"\n",
    "        predict_proba returns the prediction probabilities for texts in  `x_test`\n",
    "        \"\"\"\n",
    "        pass\n",
    "\n",
    "    def _squeeze_inputs(self, x):\n",
    "        if isinstance(x, np.ndarray) and len(x.shape) > 1:\n",
    "            x = np.squeeze(x).tolist()\n",
    "        return x\n",
    "        \n",
    "    \n",
    "class DefaultTextLearner(BaseTextLearner):\n",
    "    def __init__(self, is_classifier=True, model=None):\n",
    "        \"\"\"\n",
    "        Default text classifier/regressor for custom models.\n",
    "        \"\"\"\n",
    "        self.is_classifier = is_classifier\n",
    "        self.model = None\n",
    "\n",
    "\n",
    "    def create_model(self, texts):\n",
    "        \"\"\"\n",
    "        create a model\n",
    "        Args:\n",
    "          texts(list): list of texts\n",
    "        \"\"\"\n",
    "        token_pattern = r'\\w+|[%s]' % string.punctuation\n",
    "        if self.is_classifier:\n",
    "            clf = LogisticRegression()\n",
    "        else:\n",
    "            clf = LinearRegression()\n",
    "               \n",
    "        self.model = Pipeline([ ('vect', CountVectorizer()), \n",
    "                                ('tfidf', TfidfTransformer()),\n",
    "                                ('clf', clf) ])         \n",
    "        return\n",
    "\n",
    "\n",
    "    def fit(self, x_train, y_train):\n",
    "        \"\"\"\n",
    "        train a classifier\n",
    "        Args:\n",
    "          x_train(list or np.ndarray):  training texts\n",
    "          y_train(np.ndarray):  training labels\n",
    "        \"\"\"\n",
    "        x_train = self._squeeze_inputs(x_train)\n",
    "        y_train = self._squeeze_inputs(y_train)\n",
    "        if self.model is None:\n",
    "            self.create_model(x_train)\n",
    "        self.model.fit(x_train, y_train)\n",
    "\n",
    "\n",
    "    def predict(self, x_test, return_proba=False):\n",
    "        \"\"\"\n",
    "        make predictions on text data\n",
    "        Args:\n",
    "          x_test(list or np.ndarray or str): array of texts on which to make predictions \n",
    "          or a string representing text\n",
    "        \"\"\"\n",
    "        x_test = self._squeeze_inputs(x_test)\n",
    "        if return_proba and not hasattr(self.model['clf'], 'predict_proba'): \n",
    "            raise ValueError('%s does not support predict_proba' % (type(self.model['clf']).__name__))\n",
    "        if isinstance(x_test, str): x_test = [x_test]\n",
    "        if self.model is None: raise ValueError('model is None - call fit or load to set the model')\n",
    "        if return_proba:\n",
    "            predicted = self.model.predict_proba(x_test)\n",
    "        else:\n",
    "            predicted = self.model.predict(x_test)\n",
    "        if len(predicted) == 1: predicted = predicted[0]\n",
    "        return predicted\n",
    "\n",
    "\n",
    "    def predict_proba(self, x_test):\n",
    "        \"\"\"\n",
    "        predict_proba returns the prediction probabilities for texts in  `x_test`\n",
    "        \"\"\"\n",
    "        return self.predict(x_test, return_proba=True)\n",
    "\n",
    "\n",
    "    def evaluate(self, x_test, y_test):\n",
    "        \"\"\"\n",
    "        evaluate\n",
    "        Args:\n",
    "          x_test(list or np.ndarray):  training texts\n",
    "          y_test(np.ndarray):  training labels\n",
    "        \"\"\"\n",
    "        predicted = self.predict(x_test)\n",
    "        return np.mean(predicted == y_test)\n",
    "\n",
    "\n",
    "    def save(self, filename):\n",
    "        \"\"\"\n",
    "        save model\n",
    "        \"\"\"\n",
    "        dump(self.model, filename)\n",
    "\n",
    "\n",
    "    def load(self, filename):\n",
    "        \"\"\"\n",
    "        load model\n",
    "        \"\"\"\n",
    "        self.model = load(filename)\n",
    "\n",
    "\n",
    "class DefaultTextClassifier(DefaultTextLearner):\n",
    "    def __init__(self):\n",
    "        \"\"\"\n",
    "        Default text classifier for categorical outcomes.\n",
    "        \"\"\"\n",
    "        super().__init__(is_classifier=True)\n",
    "        \n",
    "class DefaultTextRegressor(DefaultTextLearner):\n",
    "    def __init__(self):\n",
    "        \"\"\"\n",
    "        Default text classifier for real-valued outcomes\n",
    "        \"\"\"\n",
    "        super().__init__(is_classifier=False)\n"
   ]
  },
  {
   "cell_type": "code",
   "execution_count": 10,
   "metadata": {},
   "outputs": [],
   "source": [
    "# load text data\n",
    "categories = ['alt.atheism', 'comp.graphics', 'sci.med', 'soc.religion.christian']\n",
    "from sklearn.datasets import fetch_20newsgroups\n",
    "train_b = fetch_20newsgroups(subset='train', categories=categories, shuffle=True)\n",
    "test_b = fetch_20newsgroups(subset='test',categories=categories, shuffle=True)\n",
    "(x_train, y_train) = (train_b.data, train_b.target)\n",
    "(x_test, y_test) = (test_b.data, test_b.target)"
   ]
  },
  {
   "cell_type": "code",
   "execution_count": 11,
   "metadata": {},
   "outputs": [],
   "source": [
    "learner = DefaultTextLearner(is_classifier=True)"
   ]
  },
  {
   "cell_type": "code",
   "execution_count": 12,
   "metadata": {},
   "outputs": [],
   "source": [
    "learner.fit(x_train, y_train)"
   ]
  },
  {
   "cell_type": "code",
   "execution_count": 13,
   "metadata": {},
   "outputs": [
    {
     "data": {
      "text/plain": [
       "0.8974700399467377"
      ]
     },
     "execution_count": 13,
     "metadata": {},
     "output_type": "execute_result"
    }
   ],
   "source": [
    "acc = learner.evaluate(x_test, y_test)\n",
    "acc"
   ]
  },
  {
   "cell_type": "code",
   "execution_count": 14,
   "metadata": {},
   "outputs": [],
   "source": [
    "assert acc > 0.89"
   ]
  },
  {
   "cell_type": "code",
   "execution_count": 15,
   "metadata": {},
   "outputs": [
    {
     "name": "stdout",
     "output_type": "stream",
     "text": [
      "Converted 00_causalinference.ipynb.\n",
      "Converted 01_autocoder.ipynb.\n",
      "Converted 02_learners.ipynb.\n",
      "Converted index.ipynb.\n"
     ]
    }
   ],
   "source": [
    "#hide\n",
    "from nbdev.export import notebook2script; notebook2script()"
   ]
  },
  {
   "cell_type": "code",
   "execution_count": null,
   "metadata": {},
   "outputs": [],
   "source": []
  },
  {
   "cell_type": "code",
   "execution_count": null,
   "metadata": {},
   "outputs": [],
   "source": []
  },
  {
   "cell_type": "code",
   "execution_count": null,
   "metadata": {},
   "outputs": [],
   "source": []
  }
 ],
 "metadata": {
  "kernelspec": {
   "display_name": "Python 3",
   "language": "python",
   "name": "python3"
  },
  "language_info": {
   "codemirror_mode": {
    "name": "ipython",
    "version": 3
   },
   "file_extension": ".py",
   "mimetype": "text/x-python",
   "name": "python",
   "nbconvert_exporter": "python",
   "pygments_lexer": "ipython3",
   "version": "3.6.9"
  }
 },
 "nbformat": 4,
 "nbformat_minor": 2
}
