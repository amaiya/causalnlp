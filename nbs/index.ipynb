{
 "cells": [
  {
   "cell_type": "code",
   "execution_count": 1,
   "metadata": {},
   "outputs": [],
   "source": [
    "#hide\n",
    "import causalnlp"
   ]
  },
  {
   "cell_type": "markdown",
   "metadata": {},
   "source": [
    "# CausalNLP\n",
    "\n",
    "> CausalNLP is a practical toolkit for causal inference with text"
   ]
  },
  {
   "cell_type": "markdown",
   "metadata": {},
   "source": [
    "## Install"
   ]
  },
  {
   "cell_type": "markdown",
   "metadata": {},
   "source": [
    "1. `pip install -U pip`\n",
    "2. `pip install causalnlp`"
   ]
  },
  {
   "cell_type": "markdown",
   "metadata": {},
   "source": [
    "## Usage"
   ]
  },
  {
   "cell_type": "markdown",
   "metadata": {},
   "source": [
    "### What is the causal impact of a positive review on a product click?"
   ]
  },
  {
   "cell_type": "code",
   "execution_count": 2,
   "metadata": {},
   "outputs": [],
   "source": [
    "import pandas as pd\n",
    "df = pd.read_csv('sample_data/music_seed50.tsv', sep='\\t', error_bad_lines=False)"
   ]
  },
  {
   "cell_type": "markdown",
   "metadata": {},
   "source": [
    "The file `music_seed50.tsv` is a semi-simulated dataset from [here](https://github.com/rpryzant/causal-text). Columns of relevance include:\n",
    "- `Y_sim`: simulated outcome, where 1 means product was clicked and 0 means not. \n",
    "- `C_true`:confounding categorical variable (1=audio CD, 0=other)\n",
    "- `T_true`: 1 means rating less than 3, 0 means rating of 5, where `T_true` affects the outcome `Y_sim`.\n",
    "- `T_ac`: An approximation of true review sentiment (`T_true`) created with `Autocoder`.\n",
    "\n",
    "We'll pretend the rating and `T_true` are unobserved and only use `T_ac` as the treatment variable. Using the `text_col` parameter, we include raw text as covariates for which adjustments can be made to improve causal estimates."
   ]
  },
  {
   "cell_type": "code",
   "execution_count": 3,
   "metadata": {},
   "outputs": [
    {
     "name": "stdout",
     "output_type": "stream",
     "text": [
      "outcome column (categorical): Y_sim\n",
      "treatment column: T_ac\n",
      "numerical/categorical covariates: ['C_true']\n",
      "text covariate: text\n",
      "preprocess time:  1.1216762065887451  sec\n",
      "start fitting causal inference model\n",
      "time to fit causal inference model:  9.701336860656738  sec\n"
     ]
    }
   ],
   "source": [
    "from causalnlp.causalinference import CausalInferenceModel\n",
    "from lightgbm import LGBMClassifier\n",
    "cm = CausalInferenceModel(df, \n",
    "                         metalearner_type='t-learner', learner=LGBMClassifier(num_leaves=500),\n",
    "                         treatment_col='T_ac', outcome_col='Y_sim', text_col='text',\n",
    "                         include_cols=['C_true'])\n",
    "cm.fit()"
   ]
  },
  {
   "cell_type": "markdown",
   "metadata": {},
   "source": [
    "The average treatment effect (ATE):"
   ]
  },
  {
   "cell_type": "code",
   "execution_count": 4,
   "metadata": {},
   "outputs": [
    {
     "name": "stdout",
     "output_type": "stream",
     "text": [
      "{'ate': 0.1309311542209525}\n"
     ]
    }
   ],
   "source": [
    "print( cm.estimate_ate() )"
   ]
  },
  {
   "cell_type": "markdown",
   "metadata": {},
   "source": [
    "The conditional average treatment effect (CATE) for those reviews that mention the word \"toddler\":"
   ]
  },
  {
   "cell_type": "code",
   "execution_count": 5,
   "metadata": {},
   "outputs": [
    {
     "name": "stdout",
     "output_type": "stream",
     "text": [
      "{'ate': 0.15559234254638685}\n"
     ]
    }
   ],
   "source": [
    "print( cm.estimate_ate(df['text'].str.contains('toddler')) )"
   ]
  },
  {
   "cell_type": "markdown",
   "metadata": {},
   "source": [
    "Features most predictive of the treatment effects (e.g., increase in probability of clicking product):"
   ]
  },
  {
   "cell_type": "code",
   "execution_count": 6,
   "metadata": {},
   "outputs": [
    {
     "name": "stdout",
     "output_type": "stream",
     "text": [
      "v_music    0.079042\n",
      "v_cd       0.066838\n",
      "v_album    0.055168\n",
      "v_like     0.040784\n",
      "v_love     0.040635\n",
      "C_true     0.039949\n",
      "v_just     0.035671\n",
      "v_song     0.035362\n",
      "v_great    0.029918\n",
      "v_heard    0.028373\n",
      "dtype: float64\n"
     ]
    }
   ],
   "source": [
    "print( cm.interpret(plot=False)[1][:10] )"
   ]
  },
  {
   "cell_type": "markdown",
   "metadata": {},
   "source": [
    "Features with the `v_` prefix are word features. `C_true` is the categorical variable indicating whether or not the product is a CD."
   ]
  },
  {
   "cell_type": "code",
   "execution_count": null,
   "metadata": {},
   "outputs": [],
   "source": []
  }
 ],
 "metadata": {
  "kernelspec": {
   "display_name": "Python 3",
   "language": "python",
   "name": "python3"
  },
  "language_info": {
   "codemirror_mode": {
    "name": "ipython",
    "version": 3
   },
   "file_extension": ".py",
   "mimetype": "text/x-python",
   "name": "python",
   "nbconvert_exporter": "python",
   "pygments_lexer": "ipython3",
   "version": "3.6.9"
  }
 },
 "nbformat": 4,
 "nbformat_minor": 2
}
