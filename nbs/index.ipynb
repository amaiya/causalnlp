{
 "cells": [
  {
   "cell_type": "markdown",
   "metadata": {},
   "source": [
    "# Welcome to CausalNLP"
   ]
  },
  {
   "cell_type": "markdown",
   "metadata": {},
   "source": [
    "## What is CausalNLP?\n",
    "> CausalNLP is a practical toolkit for causal inference with text as treatment, outcome, or \"controlled-for\" variable."
   ]
  },
  {
   "cell_type": "markdown",
   "metadata": {},
   "source": [
    "## Features\n",
    "- Low-code [causal inference](https://amaiya.github.io/causalnlp/examples.html) in as little as two commands\n",
    "- Out-of-the-box support for using [**text** as a \"controlled-for\" variable](https://amaiya.github.io/causalnlp/examples.html#What-is-the-causal-impact-of-a-positive-review-on-product-views?) (e.g., confounder)\n",
    "- Built-in [Autocoder](https://amaiya.github.io/causalnlp/autocoder.html) that transforms raw text into useful variables for causal analyses (e.g., topics, sentiment, emotion, etc.)\n",
    "- Sensitivity analysis to [assess robustness of causal estimates](https://amaiya.github.io/causalnlp/causalinference.html#CausalInferenceModel.evaluate_robustness)\n",
    "- Quick and simple [key driver analysis](https://amaiya.github.io/causalnlp/key_driver_analysis.html) to yield clues on potential drivers of an outcome based on predictive power, correlations, etc.\n",
    "- Can easily be applied to [\"traditional\" tabular datasets without text](https://amaiya.github.io/causalnlp/examples.html#What-is-the-causal-impact-of-having-a-PhD-on-making-over-$50K?) (i.e., datasets with only numerical and categorical variables)\n",
    "- Includes an experimental [PyTorch implementation](https://amaiya.github.io/causalnlp/core.causalbert.html) of [CausalBert](https://arxiv.org/abs/1905.12741) by Veitch, Sridar, and Blei (based on [reference implementation](https://github.com/rpryzant/causal-bert-pytorch) by R. Pryzant)"
   ]
  },
  {
   "cell_type": "markdown",
   "metadata": {},
   "source": [
    "## Install"
   ]
  },
  {
   "cell_type": "markdown",
   "metadata": {},
   "source": [
    "1. `pip install -U pip`\n",
    "2. `pip install causalnlp`\n",
    "\n",
    "**NOTE**: On Python 3.6.x, if you get a `RuntimeError: Python version >= 3.7 required`, try ensuring NumPy is installed **before** CausalNLP (e.g., `pip install numpy==1.18.5`)."
   ]
  },
  {
   "cell_type": "markdown",
   "metadata": {},
   "source": [
    "## Usage"
   ]
  },
  {
   "cell_type": "markdown",
   "metadata": {},
   "source": [
    "To try out the [examples](https://amaiya.github.io/causalnlp/examples.html) yourself:\n",
    "\n",
    "<a href=\"https://colab.research.google.com/drive/1hu7j2QCWkVlFsKbuereWWRDOBy1anMbQ?usp=sharing\"><img src=\"https://colab.research.google.com/assets/colab-badge.svg\" alt=\"Open In Colab\"/></a>"
   ]
  },
  {
   "cell_type": "markdown",
   "metadata": {},
   "source": [
    "### Example: What is the causal impact of a positive review on a product click?"
   ]
  },
  {
   "cell_type": "code",
   "execution_count": null,
   "metadata": {},
   "outputs": [],
   "source": [
    "#hide\n",
    "#all_notest"
   ]
  },
  {
   "cell_type": "code",
   "execution_count": null,
   "metadata": {},
   "outputs": [],
   "source": [
    "import pandas as pd\n",
    "df = pd.read_csv('sample_data/music_seed50.tsv', sep='\\t', error_bad_lines=False)"
   ]
  },
  {
   "cell_type": "markdown",
   "metadata": {},
   "source": [
    "The file `music_seed50.tsv` is a semi-simulated dataset from [here](https://github.com/rpryzant/causal-text). Columns of relevance include:\n",
    "- `Y_sim`: outcome, where 1 means product was clicked and 0 means not.\n",
    "- `text`: raw text of review\n",
    "- `rating`: rating associated with review (1 through 5)\n",
    "- `T_true`: 0 means rating less than 3, 1 means rating of 5, where `T_true` affects the outcome `Y_sim`.\n",
    "- `T_ac`: an approximation of true review sentiment (`T_true`) created with [Autocoder](https://amaiya.github.io/causalnlp/autocoder.html) from raw review text\n",
    "- `C_true`:confounding categorical variable (1=audio CD, 0=other)\n",
    "\n",
    "\n",
    "We'll pretend the true sentiment (i.e., review rating and `T_true`) is hidden and only use `T_ac` as the treatment variable. \n",
    "\n",
    "Using the `text_col` parameter, we include the raw review text as another \"controlled-for\" variable."
   ]
  },
  {
   "cell_type": "code",
   "execution_count": null,
   "metadata": {},
   "outputs": [
    {
     "name": "stdout",
     "output_type": "stream",
     "text": [
      "outcome column (categorical): Y_sim\n",
      "treatment column: T_ac\n",
      "numerical/categorical covariates: ['C_true']\n",
      "text covariate: text\n",
      "preprocess time:  1.1179866790771484  sec\n",
      "start fitting causal inference model\n",
      "time to fit causal inference model:  10.361494302749634  sec\n"
     ]
    }
   ],
   "source": [
    "from causalnlp import CausalInferenceModel\n",
    "from lightgbm import LGBMClassifier\n",
    "cm = CausalInferenceModel(df, \n",
    "                         metalearner_type='t-learner', learner=LGBMClassifier(num_leaves=500),\n",
    "                         treatment_col='T_ac', outcome_col='Y_sim', text_col='text',\n",
    "                         include_cols=['C_true'])\n",
    "cm.fit()"
   ]
  },
  {
   "cell_type": "markdown",
   "metadata": {},
   "source": [
    "#### Estimating Treatment Effects\n",
    "\n",
    "CausalNLP supports estimation of heterogeneous treatment effects (i.e., how causal impacts vary across observations, which could be documents, emails, posts, individuals, or organizations).\n",
    "\n",
    "We will first calculate the overall average treatment effect (or ATE), which shows that a positive review increases the probability of a click by **13 percentage points** in this dataset.\n",
    "\n",
    "**Average Treatment Effect** (or **ATE**):"
   ]
  },
  {
   "cell_type": "code",
   "execution_count": null,
   "metadata": {},
   "outputs": [
    {
     "name": "stdout",
     "output_type": "stream",
     "text": [
      "{'ate': 0.1309311542209525}\n"
     ]
    }
   ],
   "source": [
    "print( cm.estimate_ate() )"
   ]
  },
  {
   "cell_type": "markdown",
   "metadata": {},
   "source": [
    "**Conditional Average Treatment Effect** (or **CATE**): reviews that mention the word \"toddler\":"
   ]
  },
  {
   "cell_type": "code",
   "execution_count": null,
   "metadata": {},
   "outputs": [
    {
     "name": "stdout",
     "output_type": "stream",
     "text": [
      "{'ate': 0.15559234254638685}\n"
     ]
    }
   ],
   "source": [
    "print( cm.estimate_ate(df['text'].str.contains('toddler')) )"
   ]
  },
  {
   "cell_type": "markdown",
   "metadata": {},
   "source": [
    " **Individualized Treatment Effects** (or **ITE**):"
   ]
  },
  {
   "cell_type": "code",
   "execution_count": null,
   "metadata": {},
   "outputs": [
    {
     "name": "stdout",
     "output_type": "stream",
     "text": [
      "[[0.80538201]]\n"
     ]
    }
   ],
   "source": [
    "test_df = pd.DataFrame({'T_ac' : [1], 'C_true' : [1], \n",
    "                        'text' : ['I never bought this album, but I love his music and will soon!']})\n",
    "effect = cm.predict(test_df)\n",
    "print(effect)"
   ]
  },
  {
   "cell_type": "markdown",
   "metadata": {},
   "source": [
    "**Model Interpretability**:"
   ]
  },
  {
   "cell_type": "code",
   "execution_count": null,
   "metadata": {},
   "outputs": [
    {
     "name": "stdout",
     "output_type": "stream",
     "text": [
      "v_music    0.079042\n",
      "v_cd       0.066838\n",
      "v_album    0.055168\n",
      "v_like     0.040784\n",
      "v_love     0.040635\n",
      "C_true     0.039949\n",
      "v_just     0.035671\n",
      "v_song     0.035362\n",
      "v_great    0.029918\n",
      "v_heard    0.028373\n",
      "dtype: float64\n"
     ]
    }
   ],
   "source": [
    "print( cm.interpret(plot=False)[1][:10] )"
   ]
  },
  {
   "cell_type": "markdown",
   "metadata": {},
   "source": [
    "Features with the `v_` prefix are word features. `C_true` is the categorical variable indicating whether or not the product is a CD. \n",
    "\n",
    "### Text is Optional in CausalNLP\n",
    "\n",
    "Despite the \"NLP\" in CausalNLP, the library can be used for causal inference on data **without** text (e.g., only numerical and categorical variables). See [the examples](https://amaiya.github.io/causalnlp/examples.html#What-is-the-causal-impact-of-having-a-PhD-on-making-over-$50K?) for more info."
   ]
  },
  {
   "cell_type": "markdown",
   "metadata": {},
   "source": [
    "## Documentation\n",
    "API documentation and additional usage examples are available at: https://amaiya.github.io/causalnlp/\n",
    "\n",
    "## How to Cite\n",
    "\n",
    "Please cite [the following paper](https://arxiv.org/abs/2106.08043) when using CausalNLP in your work:"
   ]
  },
  {
   "cell_type": "markdown",
   "metadata": {},
   "source": [
    "```\n",
    "@article{maiya2021causalnlp,\n",
    "    title={CausalNLP: A Practical Toolkit for Causal Inference with Text},\n",
    "    author={Arun S. Maiya},\n",
    "    year={2021},\n",
    "    eprint={2106.08043},\n",
    "    archivePrefix={arXiv},\n",
    "    primaryClass={cs.CL},\n",
    "    journal={arXiv preprint arXiv:2106.08043},\n",
    "}\n",
    "```"
   ]
  },
  {
   "cell_type": "code",
   "execution_count": null,
   "metadata": {},
   "outputs": [],
   "source": []
  }
 ],
 "metadata": {
  "kernelspec": {
   "display_name": "Python 3",
   "language": "python",
   "name": "python3"
  }
 },
 "nbformat": 4,
 "nbformat_minor": 2
}
