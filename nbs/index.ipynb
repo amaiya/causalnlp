{
 "cells": [
  {
   "cell_type": "code",
   "execution_count": 1,
   "metadata": {},
   "outputs": [],
   "source": [
    "#hide\n",
    "import causalnlp"
   ]
  },
  {
   "cell_type": "markdown",
   "metadata": {},
   "source": [
    "# CausalNLP\n",
    "\n",
    "> **CausalNLP** is a practical toolkit for causal inference with **text**"
   ]
  },
  {
   "cell_type": "markdown",
   "metadata": {},
   "source": [
    "## Install"
   ]
  },
  {
   "cell_type": "markdown",
   "metadata": {},
   "source": [
    "`pip install causalnlp`"
   ]
  },
  {
   "cell_type": "markdown",
   "metadata": {},
   "source": [
    "## Usage"
   ]
  },
  {
   "cell_type": "markdown",
   "metadata": {},
   "source": [
    "### What is the causal impact of a positive review on a product click?"
   ]
  },
  {
   "cell_type": "code",
   "execution_count": 2,
   "metadata": {},
   "outputs": [
    {
     "data": {
      "text/html": [
       "<div>\n",
       "<style scoped>\n",
       "    .dataframe tbody tr th:only-of-type {\n",
       "        vertical-align: middle;\n",
       "    }\n",
       "\n",
       "    .dataframe tbody tr th {\n",
       "        vertical-align: top;\n",
       "    }\n",
       "\n",
       "    .dataframe thead th {\n",
       "        text-align: right;\n",
       "    }\n",
       "</style>\n",
       "<table border=\"1\" class=\"dataframe\">\n",
       "  <thead>\n",
       "    <tr style=\"text-align: right;\">\n",
       "      <th></th>\n",
       "      <th>index</th>\n",
       "      <th>id</th>\n",
       "      <th>rating</th>\n",
       "      <th>product</th>\n",
       "      <th>text</th>\n",
       "      <th>summary</th>\n",
       "      <th>price</th>\n",
       "      <th>T_true</th>\n",
       "      <th>C_true</th>\n",
       "      <th>Y_sim</th>\n",
       "      <th>negative</th>\n",
       "      <th>positive</th>\n",
       "      <th>T_ac</th>\n",
       "    </tr>\n",
       "  </thead>\n",
       "  <tbody>\n",
       "    <tr>\n",
       "      <th>0</th>\n",
       "      <td>7</td>\n",
       "      <td>0001388703</td>\n",
       "      <td>1.0</td>\n",
       "      <td>mp3 music</td>\n",
       "      <td>buy the cd.  do not buy the mp3 album.  downlo...</td>\n",
       "      <td>Buy the CD.  Do not buy the MP3.</td>\n",
       "      <td>13.01</td>\n",
       "      <td>0</td>\n",
       "      <td>0</td>\n",
       "      <td>0</td>\n",
       "      <td>0.548733</td>\n",
       "      <td>0.451267</td>\n",
       "      <td>0</td>\n",
       "    </tr>\n",
       "    <tr>\n",
       "      <th>1</th>\n",
       "      <td>8</td>\n",
       "      <td>0001388703</td>\n",
       "      <td>5.0</td>\n",
       "      <td>mp3 music</td>\n",
       "      <td>takes me back to my childhood!</td>\n",
       "      <td>Love it!</td>\n",
       "      <td>13.01</td>\n",
       "      <td>1</td>\n",
       "      <td>0</td>\n",
       "      <td>0</td>\n",
       "      <td>0.008373</td>\n",
       "      <td>0.991627</td>\n",
       "      <td>1</td>\n",
       "    </tr>\n",
       "  </tbody>\n",
       "</table>\n",
       "</div>"
      ],
      "text/plain": [
       "   index          id  rating    product  \\\n",
       "0      7  0001388703     1.0  mp3 music   \n",
       "1      8  0001388703     5.0  mp3 music   \n",
       "\n",
       "                                                text  \\\n",
       "0  buy the cd.  do not buy the mp3 album.  downlo...   \n",
       "1                     takes me back to my childhood!   \n",
       "\n",
       "                            summary  price  T_true  C_true  Y_sim  negative  \\\n",
       "0  Buy the CD.  Do not buy the MP3.  13.01       0       0      0  0.548733   \n",
       "1                          Love it!  13.01       1       0      0  0.008373   \n",
       "\n",
       "   positive  T_ac  \n",
       "0  0.451267     0  \n",
       "1  0.991627     1  "
      ]
     },
     "execution_count": 2,
     "metadata": {},
     "output_type": "execute_result"
    }
   ],
   "source": [
    "import pandas as pd\n",
    "df = pd.read_csv('sample_data/music_seed50.tsv', sep='\\t', error_bad_lines=False)\n",
    "df.head(2)"
   ]
  },
  {
   "cell_type": "markdown",
   "metadata": {},
   "source": [
    "This is a semi-simulated dataset from [here](https://github.com/rpryzant/causal-text).\n",
    "- `C_true`:known confounding catgorical variable (1=audio CD, 0=other)\n",
    "- `Y_sim`: simulated outcome, where 1 means product was clicked and 0 means not. \n",
    "- `T_true`: 1 means rating less than 3, 0 means rating of 5.\n",
    "- `T_ac`: An approximation of true review sentiment (`T_true`) created with `causalnlp.autocoder.Autocoder`.\n",
    "\n",
    "We'll pretend the rating and `T_true` are unobserved and only use `T_ac` as the treatment variable. Using the `text_col` parameter, we include raw text as covariates for which adjustments can be made to improve causal estimates."
   ]
  },
  {
   "cell_type": "code",
   "execution_count": 3,
   "metadata": {},
   "outputs": [
    {
     "name": "stdout",
     "output_type": "stream",
     "text": [
      "outcome column (categorical): Y_sim\n",
      "treatment column: T_ac\n",
      "numerical/categorical covariates: ['C_true']\n",
      "text covariate: text\n",
      "preprocess time:  1.1067862510681152  sec\n",
      "start fitting causal inference model\n",
      "time to fit causal inference model:  10.546765327453613  sec\n"
     ]
    }
   ],
   "source": [
    "from causalnlp.causalinference import CausalInferenceModel\n",
    "from lightgbm import LGBMClassifier\n",
    "cm = CausalInferenceModel(df, \n",
    "                         metalearner_type='t-learner', learner=LGBMClassifier(num_leaves=500),\n",
    "                         treatment_col='T_ac', outcome_col='Y_sim', text_col='text',\n",
    "                         include_cols=['C_true'])\n",
    "cm.fit()"
   ]
  },
  {
   "cell_type": "markdown",
   "metadata": {},
   "source": [
    "The average treatment effect (ATE):"
   ]
  },
  {
   "cell_type": "code",
   "execution_count": 4,
   "metadata": {},
   "outputs": [
    {
     "data": {
      "text/plain": [
       "{'ate': 0.1309311542209525}"
      ]
     },
     "execution_count": 4,
     "metadata": {},
     "output_type": "execute_result"
    }
   ],
   "source": [
    "cm.estimate_ate()"
   ]
  },
  {
   "cell_type": "markdown",
   "metadata": {},
   "source": [
    "The conditional average treatment effect (CATE) for those reviews that mention the word \"toddler\":"
   ]
  },
  {
   "cell_type": "code",
   "execution_count": 5,
   "metadata": {},
   "outputs": [
    {
     "data": {
      "text/plain": [
       "{'ate': 0.15559234254638685}"
      ]
     },
     "execution_count": 5,
     "metadata": {},
     "output_type": "execute_result"
    }
   ],
   "source": [
    "cm.estimate_ate(df['text'].str.contains('toddler'))"
   ]
  },
  {
   "cell_type": "code",
   "execution_count": null,
   "metadata": {},
   "outputs": [],
   "source": []
  }
 ],
 "metadata": {
  "kernelspec": {
   "display_name": "Python 3",
   "language": "python",
   "name": "python3"
  },
  "language_info": {
   "codemirror_mode": {
    "name": "ipython",
    "version": 3
   },
   "file_extension": ".py",
   "mimetype": "text/x-python",
   "name": "python",
   "nbconvert_exporter": "python",
   "pygments_lexer": "ipython3",
   "version": "3.6.9"
  }
 },
 "nbformat": 4,
 "nbformat_minor": 2
}
