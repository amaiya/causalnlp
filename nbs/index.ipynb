{
 "cells": [
  {
   "cell_type": "code",
   "execution_count": null,
   "metadata": {},
   "outputs": [],
   "source": [
    "#hide\n",
    "#all_notest\n",
    "import causalnlp"
   ]
  },
  {
   "cell_type": "markdown",
   "metadata": {},
   "source": [
    "# CausalNLP\n",
    "\n",
    "> CausalNLP is a practical toolkit for causal inference with text as treatment, outcome, or \"controlled-for\" variable."
   ]
  },
  {
   "cell_type": "markdown",
   "metadata": {},
   "source": [
    "## Install"
   ]
  },
  {
   "cell_type": "markdown",
   "metadata": {},
   "source": [
    "1. `pip install -U pip`\n",
    "2. `pip install causalnlp`"
   ]
  },
  {
   "cell_type": "markdown",
   "metadata": {},
   "source": [
    "## Usage"
   ]
  },
  {
   "cell_type": "markdown",
   "metadata": {},
   "source": [
    "### Example: What is the causal impact of a positive review on a product click?"
   ]
  },
  {
   "cell_type": "code",
   "execution_count": null,
   "metadata": {},
   "outputs": [],
   "source": [
    "import pandas as pd\n",
    "df = pd.read_csv('sample_data/music_seed50.tsv', sep='\\t', error_bad_lines=False)"
   ]
  },
  {
   "cell_type": "markdown",
   "metadata": {},
   "source": [
    "The file `music_seed50.tsv` is a semi-simulated dataset from [here](https://github.com/rpryzant/causal-text). Columns of relevance include:\n",
    "- `Y_sim`: simulated outcome, where 1 means product was clicked and 0 means not. \n",
    "- `C_true`:confounding categorical variable (1=audio CD, 0=other)\n",
    "- `T_true`: 1 means rating less than 3, 0 means rating of 5, where `T_true` affects the outcome `Y_sim`.\n",
    "- `T_ac`: An approximation of true review sentiment (`T_true`) created with [Autocoder](https://amaiya.github.io/causalnlp/autocoder.html).\n",
    "\n",
    "We'll pretend the true sentiment (i.e., review rating and `T_true`) is hidden and only use `T_ac` as the treatment variable. \n",
    "\n",
    "Using the `text_col` parameter, we include the raw review text as another \"controlled-for\" variable."
   ]
  },
  {
   "cell_type": "code",
   "execution_count": null,
   "metadata": {},
   "outputs": [
    {
     "name": "stdout",
     "output_type": "stream",
     "text": [
      "outcome column (categorical): Y_sim\n",
      "treatment column: T_ac\n",
      "numerical/categorical covariates: ['C_true']\n",
      "text covariate: text\n",
      "preprocess time:  1.1216762065887451  sec\n",
      "start fitting causal inference model\n",
      "time to fit causal inference model:  9.701336860656738  sec\n"
     ]
    }
   ],
   "source": [
    "from causalnlp.causalinference import CausalInferenceModel\n",
    "from lightgbm import LGBMClassifier\n",
    "cm = CausalInferenceModel(df, \n",
    "                         metalearner_type='t-learner', learner=LGBMClassifier(num_leaves=500),\n",
    "                         treatment_col='T_ac', outcome_col='Y_sim', text_col='text',\n",
    "                         include_cols=['C_true'])\n",
    "cm.fit()"
   ]
  },
  {
   "cell_type": "markdown",
   "metadata": {},
   "source": [
    "#### Results\n",
    "\n",
    "We can calculate the average treatment effect to find that a positive review increases the probability of a click by 13 percentage points in this dataset.\n",
    "\n",
    "The average treatment effect (ATE):"
   ]
  },
  {
   "cell_type": "code",
   "execution_count": null,
   "metadata": {},
   "outputs": [
    {
     "name": "stdout",
     "output_type": "stream",
     "text": [
      "{'ate': 0.1309311542209525}\n"
     ]
    }
   ],
   "source": [
    "print( cm.estimate_ate() )"
   ]
  },
  {
   "cell_type": "markdown",
   "metadata": {},
   "source": [
    "The conditional average treatment effect (CATE) for those reviews that mention the word \"toddler\":"
   ]
  },
  {
   "cell_type": "code",
   "execution_count": null,
   "metadata": {},
   "outputs": [
    {
     "name": "stdout",
     "output_type": "stream",
     "text": [
      "{'ate': 0.15559234254638685}\n"
     ]
    }
   ],
   "source": [
    "print( cm.estimate_ate(df['text'].str.contains('toddler')) )"
   ]
  },
  {
   "cell_type": "markdown",
   "metadata": {},
   "source": [
    "Features most predictive of the treatment effects (e.g., increase in probability of clicking product):"
   ]
  },
  {
   "cell_type": "code",
   "execution_count": null,
   "metadata": {},
   "outputs": [
    {
     "name": "stdout",
     "output_type": "stream",
     "text": [
      "v_music    0.079042\n",
      "v_cd       0.066838\n",
      "v_album    0.055168\n",
      "v_like     0.040784\n",
      "v_love     0.040635\n",
      "C_true     0.039949\n",
      "v_just     0.035671\n",
      "v_song     0.035362\n",
      "v_great    0.029918\n",
      "v_heard    0.028373\n",
      "dtype: float64\n"
     ]
    }
   ],
   "source": [
    "print( cm.interpret(plot=False)[1][:10] )"
   ]
  },
  {
   "cell_type": "markdown",
   "metadata": {},
   "source": [
    "Features with the `v_` prefix are word features. `C_true` is the categorical variable indicating whether or not the product is a CD. "
   ]
  },
  {
   "cell_type": "markdown",
   "metadata": {},
   "source": [
    "## Documentation\n",
    "API documentation and additional usage examples are available at: https://amaiya.github.io/causalnlp/\n",
    "\n",
    "## How to Cite\n",
    "\n",
    "Please cite [the following paper](https://arxiv.org/abs/2106.08043) when using CausalNLP in your work:"
   ]
  },
  {
   "cell_type": "markdown",
   "metadata": {},
   "source": [
    "```\n",
    "@article{maiya2021causalnlp,\n",
    "    title={CausalNLP: A Practical Toolkit for Causal Inference with Text},\n",
    "    author={Arun S. Maiya},\n",
    "    year={2021},\n",
    "    eprint={2106.08043},\n",
    "    archivePrefix={arXiv},\n",
    "    primaryClass={cs.CL},\n",
    "    journal={arXiv preprint arXiv:2106.08043},\n",
    "}\n",
    "```"
   ]
  },
  {
   "cell_type": "code",
   "execution_count": null,
   "metadata": {},
   "outputs": [],
   "source": []
  }
 ],
 "metadata": {
  "kernelspec": {
   "display_name": "Python 3",
   "language": "python",
   "name": "python3"
  }
 },
 "nbformat": 4,
 "nbformat_minor": 2
}
