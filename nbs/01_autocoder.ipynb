{
 "cells": [
  {
   "cell_type": "code",
   "execution_count": 1,
   "metadata": {},
   "outputs": [],
   "source": [
    "# default_exp autocoder"
   ]
  },
  {
   "cell_type": "code",
   "execution_count": 2,
   "metadata": {},
   "outputs": [],
   "source": [
    "#hide\n",
    "%reload_ext autoreload\n",
    "%autoreload 2\n",
    "%matplotlib inline"
   ]
  },
  {
   "cell_type": "markdown",
   "metadata": {},
   "source": [
    "# Auto Coder\n",
    "\n",
    "> Automatically codes text fields such as open-ended survey questions based on lingustic properties such as topic and sentiment."
   ]
  },
  {
   "cell_type": "code",
   "execution_count": 3,
   "metadata": {},
   "outputs": [],
   "source": [
    "#hide\n",
    "from nbdev.showdoc import *"
   ]
  },
  {
   "cell_type": "code",
   "execution_count": 14,
   "metadata": {},
   "outputs": [],
   "source": [
    "#export\n",
    "import numpy as np\n",
    "import pandas as pd\n",
    "pd.set_option('display.max_columns', 500)\n",
    "from causalnlp.analyzers import ZeroShotClassifier\n",
    "\n",
    "class Autocoder:\n",
    "    \"\"\"\n",
    "    Autocodes text fields\n",
    "    \"\"\"\n",
    "    def __init__(self, verbose=1):\n",
    "        \"\"\"\n",
    "        Instantiates the Autocoder instance.\n",
    "        \"\"\"\n",
    "        self.v = verbose\n",
    "        self.zsl = ZeroShotClassifier()\n",
    "\n",
    "\n",
    "    def _format_to_df(self, results, df):\n",
    "        d = {}\n",
    "        for e in results:\n",
    "            if isinstance(e, dict): e = e.items()\n",
    "            for tup in e:\n",
    "                label = tup[0]\n",
    "                prob = tup[1]\n",
    "                lst = d.get(label, [])\n",
    "                lst.append(prob)\n",
    "                d[label] = lst\n",
    "        new_df = df.join(pd.DataFrame(d, index=df.index))      \n",
    "        return new_df\n",
    "    \n",
    "    def _binarize_df(self, df, colnames, threshold=0.5):\n",
    "        \"\"\"\n",
    "        Binarizes each column in `colnames` based on threshold.\n",
    "        \"\"\"\n",
    "        for col in colnames:\n",
    "            df[col] = (df[col] >= threshold).astype(int)\n",
    "        return df\n",
    "        \n",
    "\n",
    "    def code_sentiment(self, docs, df, batch_size=8, binarize=False, threshold=0.5):\n",
    "        \"\"\"\n",
    "        Autocodes text for positive or negative sentiment\n",
    "        \"\"\"\n",
    "        labels = ['negative', 'positive']\n",
    "        results = self.zsl.predict(docs, labels=labels, include_labels=True, multilabel=False,\n",
    "                              batch_size=batch_size,\n",
    "                              nli_template=\"The sentiment of this movie review is {}.\")\n",
    "        df= self._format_to_df(results, df)   \n",
    "        if binarize: df = self._binarize_df(df, labels, threshold=threshold)\n",
    "        return df\n",
    "        \n",
    "    def code_emotion(self, docs, df, batch_size=8, binarize=False, threshold=0.5):\n",
    "        \"\"\"\n",
    "        Autocodes text for emotion\n",
    "        \"\"\"\n",
    "        labels = ['joy', 'anger', 'fear', 'sadness']\n",
    "        results = self.zsl.predict(docs, labels=labels, include_labels=True, multilabel=False,\n",
    "                              batch_size=batch_size,\n",
    "                              nli_template=\"The emotion of this text is {}.\")\n",
    "        df= self._format_to_df(results, df)   \n",
    "        if binarize: df = self._binarize_df(df, labels, threshold=threshold)\n",
    "        return df       \n",
    "    \n",
    "    def code_custom_topics(self, docs, df, labels, batch_size=8, binarize=False, threshold=0.5):\n",
    "        \"\"\"\n",
    "        Autocodes text for user-specified topics.\n",
    "        The `label` field is the name of the topic as a string (or a list of them.)\n",
    "        \"\"\"\n",
    "            \n",
    "        results = self.zsl.predict(docs, labels=labels, include_labels=True, batch_size=8)\n",
    "        df = self._format_to_df(results, df)    \n",
    "        if binarize: df = self._binarize_df(df, labels, threshold=threshold)\n",
    "        return df\n",
    "    \n",
    "    def code_callable(self, docs, df, fn):\n",
    "        \"\"\"\n",
    "        Autocodes text for any user-specified function\n",
    "        The `fn` parameter must be a Callable and return a dictionary for each\n",
    "        text in `docs` where the keys are desired column names and values are scores\n",
    "        or probabilities.\n",
    "        \"\"\"\n",
    "        \n",
    "        results = self.zsl.predict(docs, labels=labels, include_labels=True, batch_size=8)\n",
    "        df = self._format_to_df(results, df)    \n",
    "        if binarize: df = self._binarize_df(df, labels, threshold=threshold)\n",
    "        return df\n",
    "\n",
    "\n"
   ]
  },
  {
   "cell_type": "code",
   "execution_count": 15,
   "metadata": {},
   "outputs": [
    {
     "data": {
      "text/markdown": [
       "<h4 id=\"Autocoder.code_sentiment\" class=\"doc_header\"><code>Autocoder.code_sentiment</code><a href=\"__main__.py#L41\" class=\"source_link\" style=\"float:right\">[source]</a></h4>\n",
       "\n",
       "> <code>Autocoder.code_sentiment</code>(**`docs`**, **`df`**, **`batch_size`**=*`8`*, **`binarize`**=*`False`*, **`threshold`**=*`0.5`*)\n",
       "\n",
       "Autocodes text for positive or negative sentiment"
      ],
      "text/plain": [
       "<IPython.core.display.Markdown object>"
      ]
     },
     "metadata": {},
     "output_type": "display_data"
    }
   ],
   "source": [
    "show_doc(Autocoder.code_sentiment)"
   ]
  },
  {
   "cell_type": "code",
   "execution_count": 16,
   "metadata": {},
   "outputs": [
    {
     "data": {
      "text/markdown": [
       "<h4 id=\"Autocoder.code_custom_topics\" class=\"doc_header\"><code>Autocoder.code_custom_topics</code><a href=\"__main__.py#L65\" class=\"source_link\" style=\"float:right\">[source]</a></h4>\n",
       "\n",
       "> <code>Autocoder.code_custom_topics</code>(**`docs`**, **`df`**, **`labels`**, **`batch_size`**=*`8`*, **`binarize`**=*`False`*, **`threshold`**=*`0.5`*)\n",
       "\n",
       "Autocodes text for user-specified topics.\n",
       "The `label` field is the name of the topic as a string (or a list of them.)"
      ],
      "text/plain": [
       "<IPython.core.display.Markdown object>"
      ]
     },
     "metadata": {},
     "output_type": "display_data"
    }
   ],
   "source": [
    "show_doc(Autocoder.code_custom_topics)"
   ]
  },
  {
   "cell_type": "code",
   "execution_count": 17,
   "metadata": {},
   "outputs": [
    {
     "data": {
      "text/markdown": [
       "<h4 id=\"Autocoder.code_emotion\" class=\"doc_header\"><code>Autocoder.code_emotion</code><a href=\"__main__.py#L53\" class=\"source_link\" style=\"float:right\">[source]</a></h4>\n",
       "\n",
       "> <code>Autocoder.code_emotion</code>(**`docs`**, **`df`**, **`batch_size`**=*`8`*, **`binarize`**=*`False`*, **`threshold`**=*`0.5`*)\n",
       "\n",
       "Autocodes text for emotion"
      ],
      "text/plain": [
       "<IPython.core.display.Markdown object>"
      ]
     },
     "metadata": {},
     "output_type": "display_data"
    }
   ],
   "source": [
    "show_doc(Autocoder.code_emotion)"
   ]
  },
  {
   "cell_type": "markdown",
   "metadata": {},
   "source": [
    "## Usage Examples"
   ]
  },
  {
   "cell_type": "markdown",
   "metadata": {},
   "source": [
    "This is what the dataframe looks like before autocoding for sentiment:"
   ]
  },
  {
   "cell_type": "code",
   "execution_count": 18,
   "metadata": {},
   "outputs": [
    {
     "data": {
      "text/html": [
       "<div>\n",
       "<style scoped>\n",
       "    .dataframe tbody tr th:only-of-type {\n",
       "        vertical-align: middle;\n",
       "    }\n",
       "\n",
       "    .dataframe tbody tr th {\n",
       "        vertical-align: top;\n",
       "    }\n",
       "\n",
       "    .dataframe thead th {\n",
       "        text-align: right;\n",
       "    }\n",
       "</style>\n",
       "<table border=\"1\" class=\"dataframe\">\n",
       "  <thead>\n",
       "    <tr style=\"text-align: right;\">\n",
       "      <th></th>\n",
       "      <th>gender</th>\n",
       "      <th>review</th>\n",
       "    </tr>\n",
       "  </thead>\n",
       "  <tbody>\n",
       "    <tr>\n",
       "      <th>0</th>\n",
       "      <td>female</td>\n",
       "      <td>I loved this doctor!</td>\n",
       "    </tr>\n",
       "    <tr>\n",
       "      <th>1</th>\n",
       "      <td>male</td>\n",
       "      <td>This doctor was absolutely terrible.</td>\n",
       "    </tr>\n",
       "  </tbody>\n",
       "</table>\n",
       "</div>"
      ],
      "text/plain": [
       "   gender                                review\n",
       "0  female                  I loved this doctor!\n",
       "1    male  This doctor was absolutely terrible."
      ]
     },
     "execution_count": 18,
     "metadata": {},
     "output_type": "execute_result"
    }
   ],
   "source": [
    "ac = Autocoder()\n",
    "reviews = [\"I loved this doctor!\", \"This doctor was absolutely terrible.\"]\n",
    "df = pd.DataFrame({\n",
    "    'gender': ['female', 'male'],\n",
    "     'review' : reviews,\n",
    "      })\n",
    "df.head()"
   ]
  },
  {
   "cell_type": "markdown",
   "metadata": {},
   "source": [
    "After autocoding for sentiment, the dataframe now has extra columns:"
   ]
  },
  {
   "cell_type": "code",
   "execution_count": 19,
   "metadata": {},
   "outputs": [
    {
     "data": {
      "text/html": [
       "<div>\n",
       "<style scoped>\n",
       "    .dataframe tbody tr th:only-of-type {\n",
       "        vertical-align: middle;\n",
       "    }\n",
       "\n",
       "    .dataframe tbody tr th {\n",
       "        vertical-align: top;\n",
       "    }\n",
       "\n",
       "    .dataframe thead th {\n",
       "        text-align: right;\n",
       "    }\n",
       "</style>\n",
       "<table border=\"1\" class=\"dataframe\">\n",
       "  <thead>\n",
       "    <tr style=\"text-align: right;\">\n",
       "      <th></th>\n",
       "      <th>gender</th>\n",
       "      <th>review</th>\n",
       "      <th>negative</th>\n",
       "      <th>positive</th>\n",
       "    </tr>\n",
       "  </thead>\n",
       "  <tbody>\n",
       "    <tr>\n",
       "      <th>0</th>\n",
       "      <td>female</td>\n",
       "      <td>I loved this doctor!</td>\n",
       "      <td>0.005034</td>\n",
       "      <td>0.994966</td>\n",
       "    </tr>\n",
       "    <tr>\n",
       "      <th>1</th>\n",
       "      <td>male</td>\n",
       "      <td>This doctor was absolutely terrible.</td>\n",
       "      <td>0.981789</td>\n",
       "      <td>0.018211</td>\n",
       "    </tr>\n",
       "  </tbody>\n",
       "</table>\n",
       "</div>"
      ],
      "text/plain": [
       "   gender                                review  negative  positive\n",
       "0  female                  I loved this doctor!  0.005034  0.994966\n",
       "1    male  This doctor was absolutely terrible.  0.981789  0.018211"
      ]
     },
     "execution_count": 19,
     "metadata": {},
     "output_type": "execute_result"
    }
   ],
   "source": [
    "result_df = ac.code_sentiment(df['review'].values, df)\n",
    "result_df.head()"
   ]
  },
  {
   "cell_type": "code",
   "execution_count": 20,
   "metadata": {},
   "outputs": [],
   "source": [
    "assert result_df[result_df['gender']=='female']['negative'].values[0] < 0.1\n",
    "assert result_df[result_df['gender']=='female']['positive'].values[0] > 0.9\n",
    "assert result_df[result_df['gender']=='male']['negative'].values[0] > 0.9\n",
    "assert result_df[result_df['gender']=='male']['positive'].values[0] < 0.1"
   ]
  },
  {
   "cell_type": "markdown",
   "metadata": {},
   "source": [
    "Here is what the dataframe looks like before autocoding for custom, user-specified topics:"
   ]
  },
  {
   "cell_type": "code",
   "execution_count": 21,
   "metadata": {},
   "outputs": [
    {
     "data": {
      "text/html": [
       "<div>\n",
       "<style scoped>\n",
       "    .dataframe tbody tr th:only-of-type {\n",
       "        vertical-align: middle;\n",
       "    }\n",
       "\n",
       "    .dataframe tbody tr th {\n",
       "        vertical-align: top;\n",
       "    }\n",
       "\n",
       "    .dataframe thead th {\n",
       "        text-align: right;\n",
       "    }\n",
       "</style>\n",
       "<table border=\"1\" class=\"dataframe\">\n",
       "  <thead>\n",
       "    <tr style=\"text-align: right;\">\n",
       "      <th></th>\n",
       "      <th>over_18</th>\n",
       "      <th>comments</th>\n",
       "    </tr>\n",
       "  </thead>\n",
       "  <tbody>\n",
       "    <tr>\n",
       "      <th>0</th>\n",
       "      <td>yes</td>\n",
       "      <td>What is your favorite sitcom of all time?</td>\n",
       "    </tr>\n",
       "    <tr>\n",
       "      <th>1</th>\n",
       "      <td>no</td>\n",
       "      <td>I cannot wait to vote!</td>\n",
       "    </tr>\n",
       "  </tbody>\n",
       "</table>\n",
       "</div>"
      ],
      "text/plain": [
       "  over_18                                   comments\n",
       "0     yes  What is your favorite sitcom of all time?\n",
       "1      no                     I cannot wait to vote!"
      ]
     },
     "execution_count": 21,
     "metadata": {},
     "output_type": "execute_result"
    }
   ],
   "source": [
    "comments = [\"What is your favorite sitcom of all time?\", 'I cannot wait to vote!']\n",
    "df = pd.DataFrame({\n",
    "    'over_18': ['yes', 'no'],\n",
    "     'comments' : comments,\n",
    "      })\n",
    "df.head()"
   ]
  },
  {
   "cell_type": "markdown",
   "metadata": {},
   "source": [
    "After autocoding, the dataframe has a new column for each custom topic:"
   ]
  },
  {
   "cell_type": "code",
   "execution_count": 22,
   "metadata": {},
   "outputs": [
    {
     "data": {
      "text/html": [
       "<div>\n",
       "<style scoped>\n",
       "    .dataframe tbody tr th:only-of-type {\n",
       "        vertical-align: middle;\n",
       "    }\n",
       "\n",
       "    .dataframe tbody tr th {\n",
       "        vertical-align: top;\n",
       "    }\n",
       "\n",
       "    .dataframe thead th {\n",
       "        text-align: right;\n",
       "    }\n",
       "</style>\n",
       "<table border=\"1\" class=\"dataframe\">\n",
       "  <thead>\n",
       "    <tr style=\"text-align: right;\">\n",
       "      <th></th>\n",
       "      <th>over_18</th>\n",
       "      <th>comments</th>\n",
       "      <th>television</th>\n",
       "      <th>film</th>\n",
       "      <th>politics</th>\n",
       "    </tr>\n",
       "  </thead>\n",
       "  <tbody>\n",
       "    <tr>\n",
       "      <th>0</th>\n",
       "      <td>yes</td>\n",
       "      <td>What is your favorite sitcom of all time?</td>\n",
       "      <td>0.981327</td>\n",
       "      <td>0.012260</td>\n",
       "      <td>0.000157</td>\n",
       "    </tr>\n",
       "    <tr>\n",
       "      <th>1</th>\n",
       "      <td>no</td>\n",
       "      <td>I cannot wait to vote!</td>\n",
       "      <td>0.000518</td>\n",
       "      <td>0.004943</td>\n",
       "      <td>0.936988</td>\n",
       "    </tr>\n",
       "  </tbody>\n",
       "</table>\n",
       "</div>"
      ],
      "text/plain": [
       "  over_18                                   comments  television      film  \\\n",
       "0     yes  What is your favorite sitcom of all time?    0.981327  0.012260   \n",
       "1      no                     I cannot wait to vote!    0.000518  0.004943   \n",
       "\n",
       "   politics  \n",
       "0  0.000157  \n",
       "1  0.936988  "
      ]
     },
     "execution_count": 22,
     "metadata": {},
     "output_type": "execute_result"
    }
   ],
   "source": [
    "result_df = ac.code_custom_topics(df['comments'].values, df, labels=['television', 'film', 'politics'])\n",
    "result_df.head()"
   ]
  },
  {
   "cell_type": "code",
   "execution_count": 23,
   "metadata": {},
   "outputs": [],
   "source": [
    "assert result_df[result_df['over_18']=='yes']['television'].values[0] > 0.9\n",
    "assert result_df[result_df['over_18']=='yes']['film'].values[0] < 0.1\n",
    "assert result_df[result_df['over_18']=='yes']['politics'].values[0] < 0.1\n",
    "assert result_df[result_df['over_18']=='no']['television'].values[0] < 0.1\n",
    "assert result_df[result_df['over_18']=='no']['film'].values[0] < 0.1\n",
    "assert result_df[result_df['over_18']=='no']['politics'].values[0] > 0.9"
   ]
  },
  {
   "cell_type": "code",
   "execution_count": 24,
   "metadata": {},
   "outputs": [
    {
     "name": "stdout",
     "output_type": "stream",
     "text": [
      "Converted 00_causalinference.ipynb.\n",
      "Converted 01_autocoder.ipynb.\n",
      "Converted 02_analyzers.ipynb.\n",
      "Converted index.ipynb.\n"
     ]
    }
   ],
   "source": [
    "#hide\n",
    "from nbdev.export import notebook2script; notebook2script()"
   ]
  },
  {
   "cell_type": "code",
   "execution_count": null,
   "metadata": {},
   "outputs": [],
   "source": []
  },
  {
   "cell_type": "code",
   "execution_count": null,
   "metadata": {},
   "outputs": [],
   "source": []
  },
  {
   "cell_type": "code",
   "execution_count": null,
   "metadata": {},
   "outputs": [],
   "source": []
  }
 ],
 "metadata": {
  "kernelspec": {
   "display_name": "Python 3",
   "language": "python",
   "name": "python3"
  },
  "language_info": {
   "codemirror_mode": {
    "name": "ipython",
    "version": 3
   },
   "file_extension": ".py",
   "mimetype": "text/x-python",
   "name": "python",
   "nbconvert_exporter": "python",
   "pygments_lexer": "ipython3",
   "version": "3.6.9"
  }
 },
 "nbformat": 4,
 "nbformat_minor": 2
}
