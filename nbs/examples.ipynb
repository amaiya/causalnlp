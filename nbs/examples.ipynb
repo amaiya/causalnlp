{
 "cells": [
  {
   "cell_type": "code",
   "execution_count": 1,
   "metadata": {},
   "outputs": [],
   "source": [
    "%reload_ext autoreload\n",
    "%autoreload 2\n",
    "%matplotlib inline"
   ]
  },
  {
   "cell_type": "markdown",
   "metadata": {},
   "source": [
    "# Examples\n",
    "\n",
    "> Causal Inference API"
   ]
  },
  {
   "cell_type": "code",
   "execution_count": 9,
   "metadata": {},
   "outputs": [],
   "source": [
    "from causalnlp.causalinference import CausalInferenceModel\n",
    "from causalnlp.autocoder import Autocoder\n",
    "import pandas as pd\n",
    "import numpy as np"
   ]
  },
  {
   "cell_type": "markdown",
   "metadata": {},
   "source": [
    "## What is the causal impact of review sentiment on music prices?"
   ]
  },
  {
   "cell_type": "code",
   "execution_count": 10,
   "metadata": {},
   "outputs": [
    {
     "name": "stderr",
     "output_type": "stream",
     "text": [
      "b'Skipping line 3853: expected 6 fields, saw 7\\nSkipping line 11712: expected 6 fields, saw 7\\nSkipping line 17594: expected 6 fields, saw 7\\nSkipping line 19250: expected 6 fields, saw 7\\nSkipping line 27674: expected 6 fields, saw 7\\nSkipping line 28684: expected 6 fields, saw 7\\nSkipping line 43109: expected 6 fields, saw 7\\nSkipping line 52414: expected 6 fields, saw 7\\n'\n"
     ]
    }
   ],
   "source": [
    "df = pd.read_csv('music.tsv', sep='\\t', error_bad_lines=False)"
   ]
  },
  {
   "cell_type": "code",
   "execution_count": 11,
   "metadata": {},
   "outputs": [
    {
     "data": {
      "text/html": [
       "<div>\n",
       "<style scoped>\n",
       "    .dataframe tbody tr th:only-of-type {\n",
       "        vertical-align: middle;\n",
       "    }\n",
       "\n",
       "    .dataframe tbody tr th {\n",
       "        vertical-align: top;\n",
       "    }\n",
       "\n",
       "    .dataframe thead th {\n",
       "        text-align: right;\n",
       "    }\n",
       "</style>\n",
       "<table border=\"1\" class=\"dataframe\">\n",
       "  <thead>\n",
       "    <tr style=\"text-align: right;\">\n",
       "      <th></th>\n",
       "      <th>id</th>\n",
       "      <th>rating</th>\n",
       "      <th>product</th>\n",
       "      <th>text</th>\n",
       "      <th>summary</th>\n",
       "      <th>price</th>\n",
       "    </tr>\n",
       "  </thead>\n",
       "  <tbody>\n",
       "    <tr>\n",
       "      <th>0</th>\n",
       "      <td>0001388703</td>\n",
       "      <td>5.0</td>\n",
       "      <td>audio cd</td>\n",
       "      <td>This is a great cd full of worship favorites!!...</td>\n",
       "      <td>Great worship cd</td>\n",
       "      <td>13.01</td>\n",
       "    </tr>\n",
       "    <tr>\n",
       "      <th>1</th>\n",
       "      <td>0001388703</td>\n",
       "      <td>5.0</td>\n",
       "      <td>audio cd</td>\n",
       "      <td>So creative!  Love his music - the words, the ...</td>\n",
       "      <td>Gotta listen to this!</td>\n",
       "      <td>13.01</td>\n",
       "    </tr>\n",
       "    <tr>\n",
       "      <th>2</th>\n",
       "      <td>0001388703</td>\n",
       "      <td>5.0</td>\n",
       "      <td>audio cd</td>\n",
       "      <td>Keith Green, gone far to early in his carreer,...</td>\n",
       "      <td>Great approach still gets the message out</td>\n",
       "      <td>13.01</td>\n",
       "    </tr>\n",
       "    <tr>\n",
       "      <th>3</th>\n",
       "      <td>0001388703</td>\n",
       "      <td>5.0</td>\n",
       "      <td>audio cd</td>\n",
       "      <td>Keith Green had his special comedy style of Ch...</td>\n",
       "      <td>Great A must have</td>\n",
       "      <td>13.01</td>\n",
       "    </tr>\n",
       "    <tr>\n",
       "      <th>4</th>\n",
       "      <td>0001388703</td>\n",
       "      <td>5.0</td>\n",
       "      <td>audio cd</td>\n",
       "      <td>Keith Green / So you wanna go back to Egypt......</td>\n",
       "      <td>A great one from Keith with a guest appearance...</td>\n",
       "      <td>13.01</td>\n",
       "    </tr>\n",
       "  </tbody>\n",
       "</table>\n",
       "</div>"
      ],
      "text/plain": [
       "           id  rating   product  \\\n",
       "0  0001388703     5.0  audio cd   \n",
       "1  0001388703     5.0  audio cd   \n",
       "2  0001388703     5.0  audio cd   \n",
       "3  0001388703     5.0  audio cd   \n",
       "4  0001388703     5.0  audio cd   \n",
       "\n",
       "                                                text  \\\n",
       "0  This is a great cd full of worship favorites!!...   \n",
       "1  So creative!  Love his music - the words, the ...   \n",
       "2  Keith Green, gone far to early in his carreer,...   \n",
       "3  Keith Green had his special comedy style of Ch...   \n",
       "4  Keith Green / So you wanna go back to Egypt......   \n",
       "\n",
       "                                             summary  price  \n",
       "0                                   Great worship cd  13.01  \n",
       "1                              Gotta listen to this!  13.01  \n",
       "2          Great approach still gets the message out  13.01  \n",
       "3                                  Great A must have  13.01  \n",
       "4  A great one from Keith with a guest appearance...  13.01  "
      ]
     },
     "execution_count": 11,
     "metadata": {},
     "output_type": "execute_result"
    }
   ],
   "source": [
    "df.head()"
   ]
  },
  {
   "cell_type": "code",
   "execution_count": 12,
   "metadata": {},
   "outputs": [],
   "source": [
    "df['treatment'] =  np.where(df['rating'] == 5, 1, 0)"
   ]
  },
  {
   "cell_type": "code",
   "execution_count": 13,
   "metadata": {},
   "outputs": [],
   "source": [
    "df['full_text'] = df['summary'] + ' - ' + df['text']"
   ]
  },
  {
   "cell_type": "code",
   "execution_count": 14,
   "metadata": {},
   "outputs": [
    {
     "data": {
      "text/plain": [
       "0        Great worship cd - This is a great cd full of ...\n",
       "1        Gotta listen to this! - So creative!  Love his...\n",
       "2        Great approach still gets the message out - Ke...\n",
       "3        Great A must have - Keith Green had his specia...\n",
       "4        A great one from Keith with a guest appearance...\n",
       "                               ...                        \n",
       "55976    Crunching the numbers - I can easily recommend...\n",
       "55977    Fresh piano sounds from established Glass comp...\n",
       "55978    Bad sonics - Batagov is a masterful player of ...\n",
       "55979    Great solo piano - I always like to hear Phili...\n",
       "55980    An excellent choice of pieces covering the hig...\n",
       "Name: full_text, Length: 55981, dtype: object"
      ]
     },
     "execution_count": 14,
     "metadata": {},
     "output_type": "execute_result"
    }
   ],
   "source": [
    "df['full_text']"
   ]
  },
  {
   "cell_type": "code",
   "execution_count": 16,
   "metadata": {},
   "outputs": [
    {
     "name": "stdout",
     "output_type": "stream",
     "text": [
      "outcome column (numerical): price\n",
      "treatment column: treatment\n",
      "numerical/categorical covariates: ['product']\n",
      "text covariate: full_text\n",
      "preprocess time:  3.048341751098633  sec\n",
      "start fitting causal inference model\n",
      "time to fit causal inference model:  3.513471841812134  sec\n"
     ]
    }
   ],
   "source": [
    "cm = CausalInferenceModel(df, treatment_col='treatment', outcome_col='price', text_col='full_text',\n",
    "                         ignore_cols=['id', 'text', 'summary', 'rating'])\n",
    "cm.fit()"
   ]
  },
  {
   "cell_type": "code",
   "execution_count": 17,
   "metadata": {},
   "outputs": [
    {
     "data": {
      "text/plain": [
       "{'ate': 2.1172464103123447}"
      ]
     },
     "execution_count": 17,
     "metadata": {},
     "output_type": "execute_result"
    }
   ],
   "source": [
    "cm.estimate_ate()"
   ]
  },
  {
   "cell_type": "code",
   "execution_count": null,
   "metadata": {},
   "outputs": [],
   "source": []
  }
 ],
 "metadata": {
  "kernelspec": {
   "display_name": "Python 3",
   "language": "python",
   "name": "python3"
  },
  "language_info": {
   "codemirror_mode": {
    "name": "ipython",
    "version": 3
   },
   "file_extension": ".py",
   "mimetype": "text/x-python",
   "name": "python",
   "nbconvert_exporter": "python",
   "pygments_lexer": "ipython3",
   "version": "3.6.9"
  }
 },
 "nbformat": 4,
 "nbformat_minor": 2
}
