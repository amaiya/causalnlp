{
 "cells": [
  {
   "cell_type": "code",
   "execution_count": null,
   "metadata": {},
   "outputs": [],
   "source": [
    "# default_exp causalinference"
   ]
  },
  {
   "cell_type": "code",
   "execution_count": null,
   "metadata": {},
   "outputs": [],
   "source": [
    "#hide\n",
    "%reload_ext autoreload\n",
    "%autoreload 2\n",
    "%matplotlib inline"
   ]
  },
  {
   "cell_type": "markdown",
   "metadata": {},
   "source": [
    "# Causal Inference\n",
    "\n",
    "> Causal Inference API"
   ]
  },
  {
   "cell_type": "code",
   "execution_count": null,
   "metadata": {},
   "outputs": [],
   "source": [
    "#hide\n",
    "from nbdev.showdoc import *"
   ]
  },
  {
   "cell_type": "code",
   "execution_count": null,
   "metadata": {},
   "outputs": [],
   "source": [
    "#export\n",
    "import pandas as pd\n",
    "pd.set_option('display.max_columns', 500)\n",
    "import time\n",
    "\n",
    "from causalnlp.meta.tlearner import BaseTClassifier, BaseTRegressor\n",
    "from causalnlp.meta.slearner import BaseSClassifier, BaseSRegressor, LRSRegressor\n",
    "from causalnlp.meta.xlearner import BaseXClassifier, BaseXRegressor\n",
    "from causalnlp.meta.rlearner import BaseRClassifier, BaseRRegressor\n",
    "from causalnlp.meta.propensity import ElasticNetPropensityModel\n",
    "from causalnlp.meta.utils import NearestNeighborMatch, create_table_one\n",
    "from scipy import stats\n",
    "from lightgbm import LGBMClassifier, LGBMRegressor\n",
    "import numpy as np\n",
    "import warnings\n",
    "from copy import deepcopy\n",
    "from matplotlib import pyplot as plt\n",
    "from causalnlp.preprocessing import DataframePreprocessor\n",
    "\n",
    "# from xgboost import XGBRegressor\n",
    "# from causalml.inference.meta import XGBTRegressor, MLPTRegressor\n",
    "\n",
    "\n",
    "\n",
    "metalearner_cls_dict = {'t-learner' : BaseTClassifier,\n",
    "                        'x-learner' : BaseXClassifier,\n",
    "                        'r-learner' : BaseRClassifier,\n",
    "                         's-learner': BaseSClassifier}\n",
    "metalearner_reg_dict = {'t-learner' : BaseTRegressor,\n",
    "                        'x-learner' : BaseXRegressor,\n",
    "                        'r-learner' : BaseRRegressor,\n",
    "                        's-learner' : BaseSRegressor}\n",
    "\n",
    "class CausalInferenceModel:\n",
    "    \"\"\"Infers causality from the data contained in `df` using a metalearner.\n",
    "    \n",
    "    \n",
    "    Usage:\n",
    "\n",
    "    ```python\n",
    "    >>> cm = CausalInferenceModel(df, \n",
    "                                  treatment_col='Is_Male?', \n",
    "                                  outcome_col='Post_Shared?', text_col='Post_Text',\n",
    "                                  ignore_cols=['id', 'email'])\n",
    "        cm.fit()\n",
    "    ```\n",
    "    \n",
    "    **Parameters:**\n",
    "    \n",
    "    * **df** : pandas.DataFrame containing dataset\n",
    "    * **metalearner_type** : metalearner model to use. One of {'t-learner', 's-learner', 'x-learner', 'r-learner'} (Default: 't-learner')\n",
    "\n",
    "    * **treatment_col** : treatment variable; column should contain binary values: 1 for treated, 0 for untreated.\n",
    "    * **outcome_col** : outcome variable; column should contain the categorical or numeric outcome values\n",
    "    * **text_col** : (optional) text column containing the strings (e.g., articles, reviews, emails). \n",
    "    * **ignore_cols** : columns to ignore in the analysis\n",
    "    * **include_cols** : columns to include as covariates (e.g., possible confounders)\n",
    "    * **treatment_effect_col** : name of column to hold causal effect estimations.  Does not need to exist.  Created by CausalNLP.\n",
    "    * **learner** : an instance of a custom learner.  If None, a default LightGBM will be used.\n",
    "        # Example\n",
    "         learner = LGBMClassifier(num_leaves=1000)\n",
    "    * **effect_learner**: used for x-learner/r-learner and must be regression model\n",
    "    * **min_df** : min_df parameter used for text processing using sklearn\n",
    "    * **max_df** : max_df parameter used for text procesing using sklearn\n",
    "    * **ngram_range**: ngrams used for text vectorization. default: (1,1)\n",
    "    * **stop_words** : stop words used for text processing (from sklearn)\n",
    "    * **verbose** : If 1, print informational messages.  If 0, suppress.\n",
    "    \"\"\"\n",
    "    def __init__(self, \n",
    "                 df, \n",
    "                 metalearner_type='t-learner',\n",
    "                 treatment_col='treatment', \n",
    "                 outcome_col='outcome', \n",
    "                 text_col=None,\n",
    "                 ignore_cols=[],\n",
    "                 include_cols=[],\n",
    "                 treatment_effect_col = 'treatment_effect',\n",
    "                 learner = None,\n",
    "                 effect_learner=None,\n",
    "                 min_df=0.05,\n",
    "                 max_df=0.5,\n",
    "                 ngram_range=(1,1),\n",
    "                 stop_words='english',\n",
    "                 verbose=1):\n",
    "        \"\"\"\n",
    "        constructor\n",
    "        \"\"\"\n",
    "        metalearner_list = list(metalearner_cls_dict.keys())\n",
    "        if metalearner_type not in metalearner_list:\n",
    "            raise ValueError('metalearner_type is required and must be one of: %s' % (metalearner_list))\n",
    "        self.te = treatment_effect_col # created\n",
    "        self.metalearner_type = metalearner_type\n",
    "        self.v = verbose\n",
    "        self.df = df.copy()\n",
    "           \n",
    "        \n",
    "        # these are auto-populated by preprocess method\n",
    "        self.x = None\n",
    "        self.y = None\n",
    "        self.treatment = None\n",
    "        \n",
    "        # preprocess\n",
    "        self.pp = DataframePreprocessor(treatment_col = treatment_col,\n",
    "                                       outcome_col = outcome_col,\n",
    "                                       text_col=text_col,\n",
    "                                       include_cols=include_cols,\n",
    "                                       ignore_cols=ignore_cols,\n",
    "                                       verbose=self.v)\n",
    "        self.df, self.x, self.y, self.treatment = self.pp.preprocess(self.df,\n",
    "                                                                     training=True,\n",
    "                                                                     min_df=min_df,\n",
    "                                                                     max_df=max_df,\n",
    "                                                                     ngram_range=ngram_range,\n",
    "                                                                     stop_words=stop_words)\n",
    "\n",
    "        # setup model\n",
    "        self.model = self._create_metalearner(metalearner_type=self.metalearner_type,\n",
    "                                             supplied_learner=learner,\n",
    "                                             supplied_effect_learner=effect_learner)\n",
    "\n",
    "           \n",
    "\n",
    "    def _create_metalearner(self, metalearner_type='t-learner', \n",
    "                            supplied_learner=None, supplied_effect_learner=None):\n",
    "        # set learner\n",
    "        default_learner = None\n",
    "        if self.pp.is_classification:\n",
    "            default_learner = LGBMClassifier()\n",
    "        else:\n",
    "            default_learner =  LGBMRegressor()\n",
    "        default_effect_learner = LGBMRegressor()\n",
    "        learner = default_learner if supplied_learner is None else supplied_learner\n",
    "        effect_learner = default_effect_learner if supplied_effect_learner is None else\\\n",
    "                         supplied_effect_learner\n",
    "        \n",
    "        # set metalearner\n",
    "        metalearner_class = metalearner_cls_dict[metalearner_type] if self.pp.is_classification \\\n",
    "                                                                   else metalearner_reg_dict[metalearner_type]\n",
    "        if metalearner_type in ['t-learner', 's-learner']:\n",
    "            model = metalearner_class(learner=learner,control_name=0)\n",
    "        elif metalearner_type in ['x-learner']:\n",
    "            model = metalearner_class(\n",
    "                                      control_outcome_learner=deepcopy(learner),\n",
    "                                      treatment_outcome_learner=deepcopy(learner),\n",
    "                                      control_effect_learner=deepcopy(effect_learner),\n",
    "                                      treatment_effect_learner=deepcopy(effect_learner),\n",
    "                                      control_name=0) \n",
    "        else:\n",
    "            model = metalearner_class(outcome_learner=deepcopy(learner),\n",
    "                                      effect_learner=deepcopy(effect_learner),\n",
    "                                      control_name=0) \n",
    "        return model\n",
    "        \n",
    "           \n",
    "    def fit(self):\n",
    "        \"\"\"\n",
    "        Fits a causal inference model and estimates outcome\n",
    "        with and without treatment for each observation.\n",
    "        \"\"\"\n",
    "        print(\"start fitting causal inference model\")\n",
    "        start_time = time.time()\n",
    "        self.model.fit(self.x.values, self.treatment.values, self.y.values)\n",
    "        preds = self._predict(self.x)\n",
    "        self.df[self.te] = preds\n",
    "        print(\"time to fit causal inference model: \",-start_time + time.time(),\" sec\")\n",
    "        return self\n",
    "        \n",
    "    def predict(self, df):\n",
    "        \"\"\"\n",
    "        Estimates the treatment effect for each observation in `df`.\n",
    "        The DataFrame represented by `df` should be the same format\n",
    "        as the one supplied to `CausalInferenceModel.__init__`.\n",
    "        \"\"\"            \n",
    "        _, x, _, _ = self.pp.preprocess(df, training=False)\n",
    "        return self._predict(x)\n",
    "            \n",
    "\n",
    "    def _predict(self, x):\n",
    "        \"\"\"\n",
    "        Estimates the treatment effect for each observation in `x`,\n",
    "        where `x` is an **un-preprocessed** DataFrame of Numpy array.\n",
    "        \"\"\"\n",
    "        if isinstance(x, pd.DataFrame):\n",
    "            return self.model.predict(x.values)\n",
    "        else:\n",
    "            return self.model.predict(x)\n",
    "    \n",
    "    def estimate_ate(self, bool_mask=None):\n",
    "        \"\"\"\n",
    "        Estimates the treatment effect for each observation in\n",
    "        `self.df`.\n",
    "        \"\"\"\n",
    "        df = self.df if bool_mask is None else self.df[bool_mask]\n",
    "        a = df[self.te].values\n",
    "        mean = np.mean(a)\n",
    "        return {'ate' : mean}\n",
    "        \n",
    "\n",
    "    def interpret(self, plot=False, method='feature_importance'):\n",
    "        \"\"\"\n",
    "        Returns feature importances of treatment effect model.\n",
    "        The method parameter must be one of {'feature_importance', 'shap_values'}\n",
    "        \"\"\"\n",
    "        tau = self.df[self.te]\n",
    "        feature_names = self.x.columns.values\n",
    "        if plot:\n",
    "            if method=='feature_importance':\n",
    "                fn = self.model.plot_importance\n",
    "            elif method == 'shap_values':\n",
    "                fn = self.model.plot_shap_values\n",
    "            else:\n",
    "                raise ValueError('Unknown method: %s' % method)\n",
    "        else:\n",
    "            if method=='feature_importance':\n",
    "                fn = self.model.get_importance\n",
    "            elif method == 'shap_values':\n",
    "                fn = self.model.get_shap_values\n",
    "            else:\n",
    "                raise ValueError('Unknown method: %s' % method)\n",
    "        return fn(X=self.x, tau=tau, features = feature_names)\n",
    "        \n",
    "        \n",
    "    def _minimize_bias(self, caliper = None):\n",
    "        \"\"\"\n",
    "        minimize bias (experimental/untested)\n",
    "        \"\"\"\n",
    "\n",
    "        print('-------Start bias minimization procedure----------')\n",
    "        start_time = time.time()\n",
    "        #Join x, y and treatment vectors\n",
    "        df_match = self.x.merge(self.treatment,left_index=True, right_index=True)\n",
    "        df_match = df_match.merge(self.y, left_index=True, right_index=True)\n",
    "\n",
    "        #buld propensity model. Propensity is the probability of raw belongs to control group.\n",
    "        pm = ElasticNetPropensityModel(n_fold=3, random_state=42)\n",
    "\n",
    "        #ps - propensity score\n",
    "        df_match['ps'] = pm.fit_predict(self.x, self.treatment)\n",
    "\n",
    "        #Matching model object\n",
    "        psm = NearestNeighborMatch(replace=False,\n",
    "                       ratio=1,\n",
    "                       random_state=423,\n",
    "                       caliper=caliper)\n",
    "\n",
    "        ps_cols = list(self.feature_names_one_hot)\n",
    "        ps_cols.append('ps')\n",
    "\n",
    "        #Apply matching model\n",
    "        #If error, then sample is unbiased and we don't do anything\n",
    "        self.flg_bias = True\n",
    "        self.df_unbiased = psm.match(data=df_match, treatment_col='treatment',score_cols=['ps'])\n",
    "        self.x_unbiased = self.df_unbiased[self.x.columns]\n",
    "        self.y_unbiased = self.df_unbiased[self.outcome_col]\n",
    "        self.treatment_unbiased = self.df_unbiased['treatment']\n",
    "        print('-------------------MATCHING RESULTS----------------')\n",
    "        print('-----BEFORE MATCHING-------')\n",
    "        print(create_table_one(data=df_match,\n",
    "                                treatment_col='treatment',\n",
    "                                features=list(self.feature_names_one_hot)))\n",
    "        print('-----AFTER MATCHING-------')\n",
    "        print(create_table_one(data=self.df_unbiased,\n",
    "                                treatment_col='treatment',\n",
    "                                features=list(self.feature_names_one_hot)))\n",
    "        return self.df_unbiased\n",
    "    \n",
    "    def _predict_shap(self, x):\n",
    "        return self._predict(x)\n",
    "    \n",
    "    def explain(self, df, row_index=None, row_num=0, background_size=50, nsamples=500):\n",
    "        \"\"\"\n",
    "        Explain the treatment effect estimate of a single observation using SHAP.\n",
    "        \n",
    "        \n",
    "        **Parameters:**\n",
    "          - **df** (pd.DataFrame): a pd.DataFrame of test data is same format as original training data DataFrame\n",
    "          - **row_num** (int): raw row number in DataFrame to explain (default:0, the first row)\n",
    "          - **background_size** (int): size of background data (SHAP parameter)\n",
    "          - **nsamples** (int): number of samples (SHAP parameter)\n",
    "        \"\"\"\n",
    "        try:\n",
    "            import shap\n",
    "        except ImportError:\n",
    "            msg = 'The explain method requires shap library. Please install with: pip install shap. '+\\\n",
    "                    'Conda users should use this command instead: conda install -c conda-forge shap'\n",
    "            raise ImportError(msg)\n",
    "\n",
    "        f = self._predict_shap\n",
    "\n",
    "        # preprocess dataframe\n",
    "        _, df_display, _, _ = self.pp.preprocess(df.copy(), training=False)\n",
    "\n",
    "\n",
    "        # select row\n",
    "        df_display_row = df_display.iloc[[row_num]]\n",
    "        r_key = 'row_num'\n",
    "        r_val = row_num \n",
    "\n",
    "        # shap\n",
    "        explainer = shap.KernelExplainer(f, self.x.iloc[:background_size,:])\n",
    "        shap_values = explainer.shap_values(df_display_row, nsamples=nsamples, l1_reg='aic')\n",
    "        expected_value = explainer.expected_value\n",
    "\n",
    "        if not np.issubdtype(type(explainer.expected_value), np.floating):\n",
    "            expected_value = explainer.expected_value[0]\n",
    "        if type(shap_values) == list:\n",
    "            shap_values = shap_values[0]\n",
    "        plt.show(shap.force_plot(expected_value, shap_values, df_display_row, matplotlib=True))\n",
    "\n",
    "        \n",
    "    def get_required_columns(self):\n",
    "        \"\"\"\n",
    "        Returns required columns that must exist in any DataFrame supplied to `CausalInferenceModel.predict`.\n",
    "        \"\"\"\n",
    "        treatment_col = self.pp.treatment_col\n",
    "        other_cols = self.pp.feature_names\n",
    "        result = [treatment_col] + other_cols\n",
    "        if self.pp.text_col: result.append(self.pp.text_col)\n",
    "        return result\n",
    "\n",
    "\n",
    "    def tune_and_use_default_learner(self, split_pct=0.2, random_state=314, scoring=None):\n",
    "        \"\"\"\n",
    "        Tunes the hyperparameters of a default LightGBM model, replaces `CausalInferenceModel.learner`,\n",
    "        and returns best parameters.\n",
    "        Should be invoked **prior** to running `CausalInferencemodel.fit`.\n",
    "        If `scoring` is None, then 'roc_auc' is used for classification and 'negative_mean_squared_error'\n",
    "        is used for regresssion.\n",
    "        \"\"\"\n",
    "        from sklearn.model_selection import train_test_split\n",
    "        X_train, X_test, y_train, y_test = train_test_split(self.x.values, self.y.values, \n",
    "                                                            test_size=split_pct, \n",
    "                                                            random_state=random_state)\n",
    "        \n",
    "        fit_params={\"early_stopping_rounds\":30, \n",
    "                    \"eval_metric\" : 'auc', \n",
    "                    \"eval_set\" : [(X_test,y_test)],\n",
    "                    'eval_names': ['valid'],\n",
    "                    'verbose': 100,\n",
    "                    'categorical_feature': 'auto'}       \n",
    "\n",
    "                \n",
    "        from scipy.stats import randint as sp_randint\n",
    "        from scipy.stats import uniform as sp_uniform\n",
    "        param_test ={'num_leaves': sp_randint(6, 750), \n",
    "                     'min_child_samples': sp_randint(20, 500), \n",
    "                     'min_child_weight': [1e-5, 1e-3, 1e-2, 1e-1, 1, 1e1, 1e2, 1e3, 1e4],\n",
    "                     'subsample': sp_uniform(loc=0.2, scale=0.8), \n",
    "                     'colsample_bytree': sp_uniform(loc=0.4, scale=0.6),\n",
    "                     'reg_alpha': [0, 1e-1, 1, 2, 5, 7, 10, 50, 100],\n",
    "                     'reg_lambda': [0, 1e-1, 1, 5, 10, 20, 50, 100]}\n",
    "        n_HP_points_to_test = 100\n",
    "        if self.pp.is_classification:\n",
    "            learner_type = LGBMClassifier\n",
    "            scoring = 'roc_auc' if scoring is None else scoring\n",
    "        else:\n",
    "            learner_type =  LGBMRegressor\n",
    "            scoring = 'neg_mean_squared_error' if scoring is None else scoring\n",
    "        clf = learner_type(max_depth=-1, random_state=random_state, silent=True, \n",
    "                         metric='None', n_jobs=4, n_estimators=5000)\n",
    "        from sklearn.model_selection import RandomizedSearchCV, GridSearchCV\n",
    "        gs = RandomizedSearchCV(\n",
    "                estimator=clf, param_distributions=param_test, \n",
    "                n_iter=n_HP_points_to_test,\n",
    "                scoring='roc_auc',\n",
    "                cv=3,\n",
    "                refit=True,\n",
    "                random_state=random_state,\n",
    "                verbose=True)\n",
    "\n",
    "        gs.fit(X_train, y_train, **fit_params)\n",
    "        print('Best score reached: {} with params: {} '.format(gs.best_score_, gs.best_params_))\n",
    "        best_params = gs.best_params_\n",
    "        self.learner = learner_type(**best_params)\n",
    "        return best_params\n",
    "    \n",
    "    def evaluate_robustness(self, sample_size=0.8):\n",
    "        \"\"\"\n",
    "        Evaluates robustness on four sensitivity measures (see CausalML package for details on these methods):\n",
    "        - **Placebo Treatment**: ATE should become zero.\n",
    "        - **Random Cause**: ATE should not change.\n",
    "        - **Random Replacement**: ATE should not change.\n",
    "        - **Subset Data**: ATE should not change.\n",
    "        \"\"\"\n",
    "        from causalnlp.meta.sensitivity import Sensitivity\n",
    "        data_df = self.x.copy()\n",
    "        t_col = 'CausalNLP_t'\n",
    "        y_col = 'CausalNLP_y'\n",
    "        data_df[t_col] = self.treatment\n",
    "        data_df[y_col] = self.y\n",
    "        sens_x = Sensitivity(df=data_df, \n",
    "                             inference_features=self.x.columns.values,\n",
    "                             p_col=None,\n",
    "                             treatment_col=t_col, outcome_col=y_col, \n",
    "                             learner=self.model)\n",
    "        df = sens_x.sensitivity_analysis(methods=['Placebo Treatment',\n",
    "                                                  'Random Cause',\n",
    "                                                  'Subset Data',\n",
    "                                                  'Random Replace',\n",
    "                                                    ],sample_size=sample_size)\n",
    "        df['Distance from Desired (should be near 0)'] = np.where(df['Method']=='Placebo Treatment', \n",
    "                                                             df['New ATE']-0.0, \n",
    "                                                             df['New ATE']-df['ATE'])\n",
    "        \n",
    "        #df['Method'] = np.where(df['Method']=='Random Cause', 'Random Add', df['Method'])\n",
    "        return df"
   ]
  },
  {
   "cell_type": "code",
   "execution_count": null,
   "metadata": {},
   "outputs": [
    {
     "data": {
      "text/markdown": [
       "<h4 id=\"CausalInferenceModel.fit\" class=\"doc_header\"><code>CausalInferenceModel.fit</code><a href=\"__main__.py#L155\" class=\"source_link\" style=\"float:right\">[source]</a></h4>\n",
       "\n",
       "> <code>CausalInferenceModel.fit</code>()\n",
       "\n",
       "Fits a causal inference model and estimates outcome\n",
       "with and without treatment for each observation."
      ],
      "text/plain": [
       "<IPython.core.display.Markdown object>"
      ]
     },
     "metadata": {},
     "output_type": "display_data"
    }
   ],
   "source": [
    "show_doc(CausalInferenceModel.fit)"
   ]
  },
  {
   "cell_type": "code",
   "execution_count": null,
   "metadata": {},
   "outputs": [
    {
     "data": {
      "text/markdown": [
       "<h4 id=\"CausalInferenceModel.tune_and_use_default_learner\" class=\"doc_header\"><code>CausalInferenceModel.tune_and_use_default_learner</code><a href=\"__main__.py#L322\" class=\"source_link\" style=\"float:right\">[source]</a></h4>\n",
       "\n",
       "> <code>CausalInferenceModel.tune_and_use_default_learner</code>(**`split_pct`**=*`0.2`*, **`random_state`**=*`314`*, **`scoring`**=*`None`*)\n",
       "\n",
       "Tunes the hyperparameters of a default LightGBM model, replaces [`CausalInferenceModel.learner`](/causalnlp/causalinference.html#CausalInferenceModel.learner),\n",
       "and returns best parameters.\n",
       "Should be invoked **prior** to running `CausalInferencemodel.fit`.\n",
       "If `scoring` is None, then 'roc_auc' is used for classification and 'negative_mean_squared_error'\n",
       "is used for regresssion."
      ],
      "text/plain": [
       "<IPython.core.display.Markdown object>"
      ]
     },
     "metadata": {},
     "output_type": "display_data"
    }
   ],
   "source": [
    "show_doc(CausalInferenceModel.tune_and_use_default_learner)"
   ]
  },
  {
   "cell_type": "code",
   "execution_count": null,
   "metadata": {},
   "outputs": [
    {
     "data": {
      "text/markdown": [
       "<h4 id=\"CausalInferenceModel.predict\" class=\"doc_header\"><code>CausalInferenceModel.predict</code><a href=\"__main__.py#L168\" class=\"source_link\" style=\"float:right\">[source]</a></h4>\n",
       "\n",
       "> <code>CausalInferenceModel.predict</code>(**`df`**)\n",
       "\n",
       "Estimates the treatment effect for each observation in `df`.\n",
       "The DataFrame represented by `df` should be the same format\n",
       "as the one supplied to [`CausalInferenceModel.__init__`](/causalnlp/causalinference.html#CausalInferenceModel.__init__)."
      ],
      "text/plain": [
       "<IPython.core.display.Markdown object>"
      ]
     },
     "metadata": {},
     "output_type": "display_data"
    }
   ],
   "source": [
    "show_doc(CausalInferenceModel.predict)"
   ]
  },
  {
   "cell_type": "code",
   "execution_count": null,
   "metadata": {},
   "outputs": [
    {
     "data": {
      "text/markdown": [
       "<h4 id=\"CausalInferenceModel.get_required_columns\" class=\"doc_header\"><code>CausalInferenceModel.get_required_columns</code><a href=\"__main__.py#L311\" class=\"source_link\" style=\"float:right\">[source]</a></h4>\n",
       "\n",
       "> <code>CausalInferenceModel.get_required_columns</code>()\n",
       "\n",
       "Returns required columns that must exist in any DataFrame supplied to [`CausalInferenceModel.predict`](/causalnlp/causalinference.html#CausalInferenceModel.predict)."
      ],
      "text/plain": [
       "<IPython.core.display.Markdown object>"
      ]
     },
     "metadata": {},
     "output_type": "display_data"
    }
   ],
   "source": [
    "show_doc(CausalInferenceModel.get_required_columns)"
   ]
  },
  {
   "cell_type": "code",
   "execution_count": null,
   "metadata": {},
   "outputs": [
    {
     "data": {
      "text/markdown": [
       "<h4 id=\"CausalInferenceModel.estimate_ate\" class=\"doc_header\"><code>CausalInferenceModel.estimate_ate</code><a href=\"__main__.py#L188\" class=\"source_link\" style=\"float:right\">[source]</a></h4>\n",
       "\n",
       "> <code>CausalInferenceModel.estimate_ate</code>(**`bool_mask`**=*`None`*)\n",
       "\n",
       "Estimates the treatment effect for each observation in\n",
       "`self.df`."
      ],
      "text/plain": [
       "<IPython.core.display.Markdown object>"
      ]
     },
     "metadata": {},
     "output_type": "display_data"
    }
   ],
   "source": [
    "show_doc(CausalInferenceModel.estimate_ate)"
   ]
  },
  {
   "cell_type": "markdown",
   "metadata": {},
   "source": [
    "The `bool_mask` parameter can be used to estimate the conditional average treatment estimate (CATE).\n",
    "For instance, to estimate the average treatment effect for only those individuals over 18 years of age:\n",
    "\n",
    "```python\n",
    "cm.estimate_ate(cm.df['age']>18])\n",
    "\n",
    "```"
   ]
  },
  {
   "cell_type": "code",
   "execution_count": null,
   "metadata": {},
   "outputs": [
    {
     "data": {
      "text/markdown": [
       "<h4 id=\"CausalInferenceModel.evaluate_robustness\" class=\"doc_header\"><code>CausalInferenceModel.evaluate_robustness</code><a href=\"__main__.py#L377\" class=\"source_link\" style=\"float:right\">[source]</a></h4>\n",
       "\n",
       "> <code>CausalInferenceModel.evaluate_robustness</code>(**`sample_size`**=*`0.8`*)\n",
       "\n",
       "Evaluates robustness on four sensitivity measures (see CausalML package for details on these methods):\n",
       "- **Placebo Treatment**: ATE should become zero.\n",
       "- **Random Cause**: ATE should not change.\n",
       "- **Random Replacement**: ATE should not change.\n",
       "- **Subset Data**: ATE should not change."
      ],
      "text/plain": [
       "<IPython.core.display.Markdown object>"
      ]
     },
     "metadata": {},
     "output_type": "display_data"
    }
   ],
   "source": [
    "show_doc(CausalInferenceModel.evaluate_robustness)"
   ]
  },
  {
   "cell_type": "code",
   "execution_count": null,
   "metadata": {},
   "outputs": [
    {
     "data": {
      "text/markdown": [
       "<h4 id=\"CausalInferenceModel.interpret\" class=\"doc_header\"><code>CausalInferenceModel.interpret</code><a href=\"__main__.py#L199\" class=\"source_link\" style=\"float:right\">[source]</a></h4>\n",
       "\n",
       "> <code>CausalInferenceModel.interpret</code>(**`plot`**=*`False`*, **`method`**=*`'feature_importance'`*)\n",
       "\n",
       "Returns feature importances of treatment effect model.\n",
       "The method parameter must be one of {'feature_importance', 'shap_values'}"
      ],
      "text/plain": [
       "<IPython.core.display.Markdown object>"
      ]
     },
     "metadata": {},
     "output_type": "display_data"
    }
   ],
   "source": [
    "show_doc(CausalInferenceModel.interpret)"
   ]
  },
  {
   "cell_type": "code",
   "execution_count": null,
   "metadata": {},
   "outputs": [
    {
     "data": {
      "text/markdown": [
       "<h4 id=\"CausalInferenceModel.explain\" class=\"doc_header\"><code>CausalInferenceModel.explain</code><a href=\"__main__.py#L270\" class=\"source_link\" style=\"float:right\">[source]</a></h4>\n",
       "\n",
       "> <code>CausalInferenceModel.explain</code>(**`df`**, **`row_index`**=*`None`*, **`row_num`**=*`0`*, **`background_size`**=*`50`*, **`nsamples`**=*`500`*)\n",
       "\n",
       "Explain the treatment effect estimate of a single observation using SHAP.\n",
       "\n",
       "\n",
       "**Parameters:**\n",
       "  - **df** (pd.DataFrame): a pd.DataFrame of test data is same format as original training data DataFrame\n",
       "  - **row_num** (int): raw row number in DataFrame to explain (default:0, the first row)\n",
       "  - **background_size** (int): size of background data (SHAP parameter)\n",
       "  - **nsamples** (int): number of samples (SHAP parameter)"
      ],
      "text/plain": [
       "<IPython.core.display.Markdown object>"
      ]
     },
     "metadata": {},
     "output_type": "display_data"
    }
   ],
   "source": [
    "show_doc(CausalInferenceModel.explain)"
   ]
  },
  {
   "cell_type": "markdown",
   "metadata": {},
   "source": [
    "\n",
    "## Usage Example: Do social media posts by women get shared more often than those by men?\n",
    "\n",
    "Let's create a simulated dataset."
   ]
  },
  {
   "cell_type": "code",
   "execution_count": null,
   "metadata": {},
   "outputs": [
    {
     "data": {
      "text/html": [
       "<div>\n",
       "<style scoped>\n",
       "    .dataframe tbody tr th:only-of-type {\n",
       "        vertical-align: middle;\n",
       "    }\n",
       "\n",
       "    .dataframe tbody tr th {\n",
       "        vertical-align: top;\n",
       "    }\n",
       "\n",
       "    .dataframe thead th {\n",
       "        text-align: right;\n",
       "    }\n",
       "</style>\n",
       "<table border=\"1\" class=\"dataframe\">\n",
       "  <thead>\n",
       "    <tr style=\"text-align: right;\">\n",
       "      <th></th>\n",
       "      <th>Is_Male?</th>\n",
       "      <th>Post_Text</th>\n",
       "      <th>Post_Shared?</th>\n",
       "    </tr>\n",
       "  </thead>\n",
       "  <tbody>\n",
       "    <tr>\n",
       "      <th>0</th>\n",
       "      <td>0</td>\n",
       "      <td>I really love my job!</td>\n",
       "      <td>0</td>\n",
       "    </tr>\n",
       "    <tr>\n",
       "      <th>1</th>\n",
       "      <td>0</td>\n",
       "      <td>I really love my job!</td>\n",
       "      <td>0</td>\n",
       "    </tr>\n",
       "    <tr>\n",
       "      <th>2</th>\n",
       "      <td>0</td>\n",
       "      <td>I really love my job!</td>\n",
       "      <td>0</td>\n",
       "    </tr>\n",
       "    <tr>\n",
       "      <th>3</th>\n",
       "      <td>0</td>\n",
       "      <td>I really love my job!</td>\n",
       "      <td>0</td>\n",
       "    </tr>\n",
       "    <tr>\n",
       "      <th>4</th>\n",
       "      <td>0</td>\n",
       "      <td>I really love my job!</td>\n",
       "      <td>0</td>\n",
       "    </tr>\n",
       "  </tbody>\n",
       "</table>\n",
       "</div>"
      ],
      "text/plain": [
       "   Is_Male?              Post_Text  Post_Shared?\n",
       "0         0  I really love my job!             0\n",
       "1         0  I really love my job!             0\n",
       "2         0  I really love my job!             0\n",
       "3         0  I really love my job!             0\n",
       "4         0  I really love my job!             0"
      ]
     },
     "execution_count": null,
     "metadata": {},
     "output_type": "execute_result"
    }
   ],
   "source": [
    "import itertools\n",
    "import pandas as pd\n",
    "data = ((*a, b) for (a, b) in zip(itertools.product([0,1], [0,1], [0,1]), [36, 234, 25, 55, 6, 81, 71, 192]))\n",
    "df = pd.DataFrame(data, columns=['Is_Male?', 'Post_Text', 'Post_Shared?', 'N'])\n",
    "df = df.loc[df.index.repeat(df['N'])].reset_index(drop=True).drop(columns=['N'])\n",
    "values = sorted(df['Post_Text'].unique())\n",
    "df['Post_Text'].replace(values, ['I really love my job!', 'My boss is pretty terrible.'], inplace=True)\n",
    "original_df = df.copy()\n",
    "df = None\n",
    "original_df.head()"
   ]
  },
  {
   "cell_type": "markdown",
   "metadata": {},
   "source": [
    "At first glance, it seems like posts by women get shared more often.  More specifically, it appears that being male **reduces** your the chance your post is shared by 4.5 percentage points:"
   ]
  },
  {
   "cell_type": "code",
   "execution_count": null,
   "metadata": {},
   "outputs": [
    {
     "data": {
      "text/plain": [
       "0.78"
      ]
     },
     "execution_count": null,
     "metadata": {},
     "output_type": "execute_result"
    }
   ],
   "source": [
    "male_probability = original_df[(original_df['Is_Male?']==1)]['Post_Shared?'].value_counts(normalize=True)[1]\n",
    "male_probability"
   ]
  },
  {
   "cell_type": "code",
   "execution_count": null,
   "metadata": {},
   "outputs": [
    {
     "data": {
      "text/plain": [
       "0.8257142857142857"
      ]
     },
     "execution_count": null,
     "metadata": {},
     "output_type": "execute_result"
    }
   ],
   "source": [
    "female_probability = original_df[(original_df['Is_Male?']==0)]['Post_Shared?'].value_counts(normalize=True)[1]\n",
    "female_probability"
   ]
  },
  {
   "cell_type": "code",
   "execution_count": null,
   "metadata": {},
   "outputs": [
    {
     "data": {
      "text/plain": [
       "-0.04571428571428571"
      ]
     },
     "execution_count": null,
     "metadata": {},
     "output_type": "execute_result"
    }
   ],
   "source": [
    "male_probability-female_probability"
   ]
  },
  {
   "cell_type": "markdown",
   "metadata": {},
   "source": [
    "However, this is inaccurate. In fact, this is an example of [Simpson's Paradox](https://en.wikipedia.org/wiki/Simpson%27s_paradox), and the true causal effect of being male in this simulated datsaet is roughly **0.05** (as opposed to **-0.045**) with men's posts being more likely to be shared. The reason is that women in this simulation tend to make more positive posts which tend to be shared more often here. Post sentiment, then, is a [mediator](https://en.wikipedia.org/wiki/Mediation_(statistics), which is statistically statistically similar to a [confounder](https://en.wikipedia.org/wiki/Confounding).   \n",
    "\n",
    "When controlling for the sentiment of the post (the mediator variable in this dataset), it is revealed that men's posts are, in fact, shared more often (for both negative posts and positive posts). This can be quickly and easily estimated in **CausalNLP**.\n",
    "\n",
    "### Causal Inference from Text with Autocoders\n",
    "\n",
    "Let's first use the `Autocoder` to transform the raw text into sentiment.  We can then control for sentiment when estimating the causal effect."
   ]
  },
  {
   "cell_type": "code",
   "execution_count": null,
   "metadata": {},
   "outputs": [],
   "source": [
    "from causalnlp.autocoder import Autocoder\n",
    "ac = Autocoder()"
   ]
  },
  {
   "cell_type": "code",
   "execution_count": null,
   "metadata": {},
   "outputs": [],
   "source": [
    "df = ac.code_sentiment(original_df['Post_Text'].values, original_df, binarize=False, batch_size=16)"
   ]
  },
  {
   "cell_type": "code",
   "execution_count": null,
   "metadata": {},
   "outputs": [
    {
     "data": {
      "text/html": [
       "<div>\n",
       "<style scoped>\n",
       "    .dataframe tbody tr th:only-of-type {\n",
       "        vertical-align: middle;\n",
       "    }\n",
       "\n",
       "    .dataframe tbody tr th {\n",
       "        vertical-align: top;\n",
       "    }\n",
       "\n",
       "    .dataframe thead th {\n",
       "        text-align: right;\n",
       "    }\n",
       "</style>\n",
       "<table border=\"1\" class=\"dataframe\">\n",
       "  <thead>\n",
       "    <tr style=\"text-align: right;\">\n",
       "      <th></th>\n",
       "      <th>Is_Male?</th>\n",
       "      <th>Post_Text</th>\n",
       "      <th>Post_Shared?</th>\n",
       "      <th>negative</th>\n",
       "      <th>positive</th>\n",
       "    </tr>\n",
       "  </thead>\n",
       "  <tbody>\n",
       "    <tr>\n",
       "      <th>0</th>\n",
       "      <td>0</td>\n",
       "      <td>I really love my job!</td>\n",
       "      <td>0</td>\n",
       "      <td>0.019191</td>\n",
       "      <td>0.980809</td>\n",
       "    </tr>\n",
       "    <tr>\n",
       "      <th>1</th>\n",
       "      <td>0</td>\n",
       "      <td>I really love my job!</td>\n",
       "      <td>0</td>\n",
       "      <td>0.019191</td>\n",
       "      <td>0.980809</td>\n",
       "    </tr>\n",
       "    <tr>\n",
       "      <th>2</th>\n",
       "      <td>0</td>\n",
       "      <td>I really love my job!</td>\n",
       "      <td>0</td>\n",
       "      <td>0.019191</td>\n",
       "      <td>0.980809</td>\n",
       "    </tr>\n",
       "    <tr>\n",
       "      <th>3</th>\n",
       "      <td>0</td>\n",
       "      <td>I really love my job!</td>\n",
       "      <td>0</td>\n",
       "      <td>0.019191</td>\n",
       "      <td>0.980809</td>\n",
       "    </tr>\n",
       "    <tr>\n",
       "      <th>4</th>\n",
       "      <td>0</td>\n",
       "      <td>I really love my job!</td>\n",
       "      <td>0</td>\n",
       "      <td>0.019191</td>\n",
       "      <td>0.980809</td>\n",
       "    </tr>\n",
       "  </tbody>\n",
       "</table>\n",
       "</div>"
      ],
      "text/plain": [
       "   Is_Male?              Post_Text  Post_Shared?  negative  positive\n",
       "0         0  I really love my job!             0  0.019191  0.980809\n",
       "1         0  I really love my job!             0  0.019191  0.980809\n",
       "2         0  I really love my job!             0  0.019191  0.980809\n",
       "3         0  I really love my job!             0  0.019191  0.980809\n",
       "4         0  I really love my job!             0  0.019191  0.980809"
      ]
     },
     "execution_count": null,
     "metadata": {},
     "output_type": "execute_result"
    }
   ],
   "source": [
    "df.head()"
   ]
  },
  {
   "cell_type": "markdown",
   "metadata": {},
   "source": [
    "When autocoding the raw text for sentiment, we have chosen to use the raw \"probabilities\" with `binarize=False`.  A binary variable can also be used with `binarize=True`.\n",
    "\n",
    "Next, let's estimate the treatment effects. We will ignore the `positive` and `Post_Shared?` columns, as their information is captured by the `negative` column in this example. We will use the T-Learner. See [this paper](https://arxiv.org/abs/1706.03461) for more information on metalearner types."
   ]
  },
  {
   "cell_type": "code",
   "execution_count": null,
   "metadata": {},
   "outputs": [
    {
     "name": "stdout",
     "output_type": "stream",
     "text": [
      "outcome column (categorical): Post_Shared?\n",
      "treatment column: Is_Male?\n",
      "numerical/categorical covariates: ['negative']\n",
      "preprocess time:  0.011898040771484375  sec\n",
      "start fitting causal inference model\n",
      "time to fit causal inference model:  1.3856003284454346  sec\n"
     ]
    },
    {
     "data": {
      "text/plain": [
       "<causalnlp.causalinference.CausalInferenceModel at 0x7fd4d03377f0>"
      ]
     },
     "execution_count": null,
     "metadata": {},
     "output_type": "execute_result"
    }
   ],
   "source": [
    "from causalnlp.causalinference import CausalInferenceModel\n",
    "cm = CausalInferenceModel(df, metalearner_type='t-learner',\n",
    "                          treatment_col='Is_Male?', outcome_col='Post_Shared?',\n",
    "                          include_cols=['negative'])\n",
    "cm.fit()"
   ]
  },
  {
   "cell_type": "markdown",
   "metadata": {},
   "source": [
    "Upon controlling for sentiment, we see that the overall average treatment is correctly estimated as 0.05."
   ]
  },
  {
   "cell_type": "code",
   "execution_count": null,
   "metadata": {},
   "outputs": [
    {
     "data": {
      "text/plain": [
       "{'ate': 0.05366850622769351}"
      ]
     },
     "execution_count": null,
     "metadata": {},
     "output_type": "execute_result"
    }
   ],
   "source": [
    "ate = cm.estimate_ate()\n",
    "ate"
   ]
  },
  {
   "cell_type": "markdown",
   "metadata": {},
   "source": [
    "Since this is a small, simulated, toy problem, we can manually calculate the adjusted treatment effect by controlling for the single counfounder (i.e., post negativity):"
   ]
  },
  {
   "cell_type": "code",
   "execution_count": null,
   "metadata": {},
   "outputs": [
    {
     "data": {
      "text/plain": [
       "0.0534529194528211"
      ]
     },
     "execution_count": null,
     "metadata": {},
     "output_type": "execute_result"
    }
   ],
   "source": [
    "from collections import defaultdict\n",
    "def ATE_adjusted(C, T, Y):\n",
    "    x = defaultdict(list)\n",
    "    for c, t, y in zip(C, T, Y):\n",
    "        x[c, t].append(y)\n",
    "\n",
    "    C0_ATE = np.mean(x[0,1]) - np.mean(x[0,0])\n",
    "    C1_ATE = np.mean(x[1,1]) - np.mean(x[1,0])\n",
    "    return np.mean([C0_ATE, C1_ATE])\n",
    "ATE_adjusted((df['negative']>0.5).astype('int'), df['Is_Male?'].values, df['Post_Shared?'].values)"
   ]
  },
  {
   "cell_type": "markdown",
   "metadata": {},
   "source": [
    "We see that this value is close to our estimate.\n",
    "\n",
    "**CausalNLP** allows you to easily compute conditional or individualized treatment effects.\n",
    "For instance, for negative posts, being male increases the chance of your post being shared by about 4 percentage points:"
   ]
  },
  {
   "cell_type": "code",
   "execution_count": null,
   "metadata": {},
   "outputs": [
    {
     "data": {
      "text/plain": [
       "{'ate': 0.042535751074149745}"
      ]
     },
     "execution_count": null,
     "metadata": {},
     "output_type": "execute_result"
    }
   ],
   "source": [
    "cm.estimate_ate(cm.df['negative']>0.9)"
   ]
  },
  {
   "cell_type": "markdown",
   "metadata": {},
   "source": [
    "For positive posts, being male increases the chance of your post being shared by about 6 percentage points:"
   ]
  },
  {
   "cell_type": "code",
   "execution_count": null,
   "metadata": {},
   "outputs": [
    {
     "data": {
      "text/plain": [
       "{'ate': 0.06436468274776497}"
      ]
     },
     "execution_count": null,
     "metadata": {},
     "output_type": "execute_result"
    }
   ],
   "source": [
    "cm.estimate_ate(cm.df['negative']<0.1)"
   ]
  },
  {
   "cell_type": "code",
   "execution_count": null,
   "metadata": {},
   "outputs": [],
   "source": [
    "assert ate['ate'] > 0.05\n",
    "assert ate['ate'] < 0.055"
   ]
  },
  {
   "cell_type": "markdown",
   "metadata": {},
   "source": [
    "Predictions can be made for new observations.    We just have to make sure it contains the relevant columns included in the DataFrame supplied to `CausalInferenceModel.fit`. In this case, it must include `Is_Male?` and `negative`. This can be verified with the `CausalInferenceModel.get_required_columns` method:"
   ]
  },
  {
   "cell_type": "code",
   "execution_count": null,
   "metadata": {},
   "outputs": [
    {
     "data": {
      "text/plain": [
       "['Is_Male?', 'negative']"
      ]
     },
     "execution_count": null,
     "metadata": {},
     "output_type": "execute_result"
    }
   ],
   "source": [
    "cm.get_required_columns()"
   ]
  },
  {
   "cell_type": "code",
   "execution_count": null,
   "metadata": {},
   "outputs": [
    {
     "name": "stdout",
     "output_type": "stream",
     "text": [
      "[[0.06436468]]\n"
     ]
    }
   ],
   "source": [
    "test_df = pd.DataFrame({\n",
    "     'text' : ['I love my life.'],\n",
    "    'Is_Male?' : [0],\n",
    "    'negative' : [0]\n",
    "      })\n",
    "effect = cm.predict(test_df)\n",
    "assert effect[0][0] < 0.065\n",
    "assert effect[0][0] > 0.064\n",
    "print(effect)"
   ]
  },
  {
   "cell_type": "markdown",
   "metadata": {},
   "source": [
    "### Causal Inference Using Raw Text as a Confounder/Mediator\n",
    "\n",
    "In the example above, we approached the problem under the assumption that a specific lingustic property (sentiment) was an important mediator or confounder for which to control. In some cases, there may also be other unknown lingustic properties that are potential confounders/mediators (e.g., topic, politeness, toxic language, readability).  \n",
    "\n",
    "In **CausalNLP**, we can also use the **raw text** as the potential confounder/mediator."
   ]
  },
  {
   "cell_type": "code",
   "execution_count": null,
   "metadata": {},
   "outputs": [
    {
     "name": "stdout",
     "output_type": "stream",
     "text": [
      "outcome column (categorical): Post_Shared?\n",
      "treatment column: Is_Male?\n",
      "numerical/categorical covariates: []\n",
      "text covariate: Post_Text\n",
      "preprocess time:  0.016068696975708008  sec\n",
      "start fitting causal inference model\n",
      "time to fit causal inference model:  0.27904629707336426  sec\n"
     ]
    },
    {
     "data": {
      "text/plain": [
       "<causalnlp.causalinference.CausalInferenceModel at 0x7fd4d0344a90>"
      ]
     },
     "execution_count": null,
     "metadata": {},
     "output_type": "execute_result"
    }
   ],
   "source": [
    "cm = CausalInferenceModel(df, metalearner_type='t-learner',\n",
    "                          treatment_col='Is_Male?', outcome_col='Post_Shared?', text_col='Post_Text',\n",
    "                         ignore_cols=['negative', 'positive'])\n",
    "cm.fit()"
   ]
  },
  {
   "cell_type": "markdown",
   "metadata": {},
   "source": [
    "Although we have excluded the **negative** and **positive** columns as extra covariates, you can use traditional categorical/numerical covariates in combination with a text field covariate (if they exist as extra columns in the dataframe).\n",
    "\n",
    "Here, we see that the same causal estimates are returned, as the text is easy to infer as positive or negative based on their correlations with the outcomes in this problem."
   ]
  },
  {
   "cell_type": "code",
   "execution_count": null,
   "metadata": {},
   "outputs": [
    {
     "data": {
      "text/plain": [
       "{'ate': 0.05366850622769351}"
      ]
     },
     "execution_count": null,
     "metadata": {},
     "output_type": "execute_result"
    }
   ],
   "source": [
    "ate = cm.estimate_ate()\n",
    "ate"
   ]
  },
  {
   "cell_type": "code",
   "execution_count": null,
   "metadata": {},
   "outputs": [
    {
     "data": {
      "text/plain": [
       "{'ate': 0.042535751074149745}"
      ]
     },
     "execution_count": null,
     "metadata": {},
     "output_type": "execute_result"
    }
   ],
   "source": [
    "cm.estimate_ate(df['Post_Text'] == 'My boss is pretty terrible.')"
   ]
  },
  {
   "cell_type": "code",
   "execution_count": null,
   "metadata": {},
   "outputs": [
    {
     "data": {
      "text/plain": [
       "{'ate': 0.06436468274776497}"
      ]
     },
     "execution_count": null,
     "metadata": {},
     "output_type": "execute_result"
    }
   ],
   "source": [
    "cm.estimate_ate(df['Post_Text'] == 'I really love my job!')"
   ]
  },
  {
   "cell_type": "code",
   "execution_count": null,
   "metadata": {},
   "outputs": [],
   "source": [
    "assert ate['ate'] > 0.05\n",
    "assert ate['ate'] < 0.055"
   ]
  },
  {
   "cell_type": "markdown",
   "metadata": {},
   "source": [
    "    Make predictions on new data.  Again, make sure the DataFrame contains the relevant columns included in the original DataFrame supplied to `CausalInferenceModel.fit`:"
   ]
  },
  {
   "cell_type": "code",
   "execution_count": null,
   "metadata": {},
   "outputs": [
    {
     "data": {
      "text/plain": [
       "['Is_Male?', 'Post_Text']"
      ]
     },
     "execution_count": null,
     "metadata": {},
     "output_type": "execute_result"
    }
   ],
   "source": [
    "cm.get_required_columns()"
   ]
  },
  {
   "cell_type": "code",
   "execution_count": null,
   "metadata": {},
   "outputs": [
    {
     "name": "stdout",
     "output_type": "stream",
     "text": [
      "[[0.06436468]]\n"
     ]
    }
   ],
   "source": [
    "test_df = pd.DataFrame({\n",
    "     'Post_Text' : ['I love my life.'],\n",
    "    'New Column' : [1],\n",
    "    'Is_Male?' : [0],\n",
    "    'negative' : [0]\n",
    "      })\n",
    "effect = cm.predict(test_df)\n",
    "assert effect[0][0] < 0.065\n",
    "assert effect[0][0] > 0.064\n",
    "print(effect)"
   ]
  },
  {
   "cell_type": "code",
   "execution_count": null,
   "metadata": {},
   "outputs": [
    {
     "data": {
      "text/plain": [
       "{1: v_boss        1.0\n",
       " v_terrible    0.0\n",
       " v_pretty      0.0\n",
       " dtype: float64}"
      ]
     },
     "execution_count": null,
     "metadata": {},
     "output_type": "execute_result"
    }
   ],
   "source": [
    "cm.interpret(plot=False, method='feature_importance')"
   ]
  },
  {
   "cell_type": "code",
   "execution_count": null,
   "metadata": {},
   "outputs": [
    {
     "data": {
      "image/png": "[encoded data removed]",
      "text/plain": [
       "<Figure size 864x576 with 1 Axes>"
      ]
     },
     "metadata": {
      "needs_background": "light"
     },
     "output_type": "display_data"
    }
   ],
   "source": [
    "cm.interpret(plot=True, method='feature_importance')"
   ]
  },
  {
   "cell_type": "code",
   "execution_count": null,
   "metadata": {},
   "outputs": [
    {
     "data": {
      "image/png": "[encoded data removed]",
      "text/plain": [
       "<Figure size 576x194.4 with 2 Axes>"
      ]
     },
     "metadata": {
      "needs_background": "light"
     },
     "output_type": "display_data"
    }
   ],
   "source": [
    "cm.interpret(plot=True, method='shap_values')"
   ]
  },
  {
   "cell_type": "markdown",
   "metadata": {},
   "source": [
    "### Causal Inference With Text as a Treatment"
   ]
  },
  {
   "cell_type": "markdown",
   "metadata": {},
   "source": [
    "Suppose we were interested in estimating the causal impact of **sentiment** on the outcome.  That is, **sentiment** of text is the treatment, and the **gender** is a potential confounder. As we did above, we can use the `Autocoder` to create the treatment variable.  The only difference is that we would supply the `binarize=True` as an argument."
   ]
  },
  {
   "cell_type": "code",
   "execution_count": null,
   "metadata": {},
   "outputs": [],
   "source": [
    "df = ac.code_sentiment(original_df['Post_Text'].values, original_df, binarize=True, batch_size=16)"
   ]
  },
  {
   "cell_type": "code",
   "execution_count": null,
   "metadata": {},
   "outputs": [
    {
     "data": {
      "text/html": [
       "<div>\n",
       "<style scoped>\n",
       "    .dataframe tbody tr th:only-of-type {\n",
       "        vertical-align: middle;\n",
       "    }\n",
       "\n",
       "    .dataframe tbody tr th {\n",
       "        vertical-align: top;\n",
       "    }\n",
       "\n",
       "    .dataframe thead th {\n",
       "        text-align: right;\n",
       "    }\n",
       "</style>\n",
       "<table border=\"1\" class=\"dataframe\">\n",
       "  <thead>\n",
       "    <tr style=\"text-align: right;\">\n",
       "      <th></th>\n",
       "      <th>Is_Male?</th>\n",
       "      <th>Post_Text</th>\n",
       "      <th>Post_Shared?</th>\n",
       "      <th>negative</th>\n",
       "      <th>positive</th>\n",
       "    </tr>\n",
       "  </thead>\n",
       "  <tbody>\n",
       "    <tr>\n",
       "      <th>0</th>\n",
       "      <td>0</td>\n",
       "      <td>I really love my job!</td>\n",
       "      <td>0</td>\n",
       "      <td>0</td>\n",
       "      <td>1</td>\n",
       "    </tr>\n",
       "    <tr>\n",
       "      <th>1</th>\n",
       "      <td>0</td>\n",
       "      <td>I really love my job!</td>\n",
       "      <td>0</td>\n",
       "      <td>0</td>\n",
       "      <td>1</td>\n",
       "    </tr>\n",
       "    <tr>\n",
       "      <th>2</th>\n",
       "      <td>0</td>\n",
       "      <td>I really love my job!</td>\n",
       "      <td>0</td>\n",
       "      <td>0</td>\n",
       "      <td>1</td>\n",
       "    </tr>\n",
       "    <tr>\n",
       "      <th>3</th>\n",
       "      <td>0</td>\n",
       "      <td>I really love my job!</td>\n",
       "      <td>0</td>\n",
       "      <td>0</td>\n",
       "      <td>1</td>\n",
       "    </tr>\n",
       "    <tr>\n",
       "      <th>4</th>\n",
       "      <td>0</td>\n",
       "      <td>I really love my job!</td>\n",
       "      <td>0</td>\n",
       "      <td>0</td>\n",
       "      <td>1</td>\n",
       "    </tr>\n",
       "  </tbody>\n",
       "</table>\n",
       "</div>"
      ],
      "text/plain": [
       "   Is_Male?              Post_Text  Post_Shared?  negative  positive\n",
       "0         0  I really love my job!             0         0         1\n",
       "1         0  I really love my job!             0         0         1\n",
       "2         0  I really love my job!             0         0         1\n",
       "3         0  I really love my job!             0         0         1\n",
       "4         0  I really love my job!             0         0         1"
      ]
     },
     "execution_count": null,
     "metadata": {},
     "output_type": "execute_result"
    }
   ],
   "source": [
    "df.head()"
   ]
  },
  {
   "cell_type": "code",
   "execution_count": null,
   "metadata": {},
   "outputs": [
    {
     "name": "stdout",
     "output_type": "stream",
     "text": [
      "outcome column (categorical): Post_Shared?\n",
      "treatment column: positive\n",
      "numerical/categorical covariates: ['Is_Male?']\n",
      "preprocess time:  0.008580684661865234  sec\n",
      "start fitting causal inference model\n",
      "time to fit causal inference model:  0.34172821044921875  sec\n"
     ]
    },
    {
     "data": {
      "text/plain": [
       "<causalnlp.causalinference.CausalInferenceModel at 0x7fd4d05ada20>"
      ]
     },
     "execution_count": null,
     "metadata": {},
     "output_type": "execute_result"
    }
   ],
   "source": [
    "cm = CausalInferenceModel(df, metalearner_type='t-learner',\n",
    "                          treatment_col='positive', outcome_col='Post_Shared?',\n",
    "                          include_cols=['Is_Male?'])\n",
    "cm.fit()"
   ]
  },
  {
   "cell_type": "code",
   "execution_count": null,
   "metadata": {},
   "outputs": [
    {
     "data": {
      "text/plain": [
       "{'ate': 0.19008080596986368}"
      ]
     },
     "execution_count": null,
     "metadata": {},
     "output_type": "execute_result"
    }
   ],
   "source": [
    "ate = cm.estimate_ate()\n",
    "ate"
   ]
  },
  {
   "cell_type": "code",
   "execution_count": null,
   "metadata": {},
   "outputs": [],
   "source": [
    "assert ate['ate'] > 0.18\n",
    "assert ate['ate'] < 0.2"
   ]
  },
  {
   "cell_type": "code",
   "execution_count": null,
   "metadata": {},
   "outputs": [
    {
     "data": {
      "text/plain": [
       "['positive', 'Is_Male?']"
      ]
     },
     "execution_count": null,
     "metadata": {},
     "output_type": "execute_result"
    }
   ],
   "source": [
    "cm.get_required_columns()"
   ]
  },
  {
   "cell_type": "code",
   "execution_count": null,
   "metadata": {},
   "outputs": [
    {
     "name": "stdout",
     "output_type": "stream",
     "text": [
      "[[0.20099539]]\n"
     ]
    }
   ],
   "source": [
    "test_df = pd.DataFrame({\n",
    "    'Is_Male?' : [1],\n",
    "    'positive' : [1]\n",
    "      })\n",
    "effect = cm.predict(test_df)\n",
    "print(effect)"
   ]
  },
  {
   "cell_type": "code",
   "execution_count": null,
   "metadata": {},
   "outputs": [
    {
     "name": "stdout",
     "output_type": "stream",
     "text": [
      "Converted 00_causalinference.ipynb.\n",
      "Converted 01_autocoder.ipynb.\n",
      "Converted 02_analyzers.ipynb.\n",
      "Converted 03_key_driver_analysis.ipynb.\n",
      "Converted 04_preprocessing.ipynb.\n",
      "Converted 05a_meta.base.ipynb.\n",
      "Converted 05b_meta.tleaerner.ipynb.\n",
      "Converted 05c_meta.slearner.ipynb.\n",
      "Converted 05d_meta.xlearner.ipynb.\n",
      "Converted 05e_meta.rlearner.ipynb.\n",
      "Converted 05f_meta.utils.ipynb.\n",
      "Converted 05g_meta.explainer.ipynb.\n",
      "Converted 05h_meta.propensity.ipynb.\n",
      "Converted 05i_meta.sensitivity.ipynb.\n",
      "Converted 99_examples.ipynb.\n",
      "Converted index.ipynb.\n"
     ]
    }
   ],
   "source": [
    "#hide\n",
    "from nbdev.export import notebook2script; notebook2script()"
   ]
  },
  {
   "cell_type": "code",
   "execution_count": null,
   "metadata": {},
   "outputs": [],
   "source": []
  },
  {
   "cell_type": "code",
   "execution_count": null,
   "metadata": {},
   "outputs": [],
   "source": []
  }
 ],
 "metadata": {
  "kernelspec": {
   "display_name": "Python 3",
   "language": "python",
   "name": "python3"
  }
 },
 "nbformat": 4,
 "nbformat_minor": 2
}
